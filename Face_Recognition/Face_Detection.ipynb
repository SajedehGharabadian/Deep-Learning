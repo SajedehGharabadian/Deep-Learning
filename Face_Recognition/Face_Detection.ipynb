{
  "nbformat": 4,
  "nbformat_minor": 0,
  "metadata": {
    "colab": {
      "name": "Face_Detection.ipynb",
      "provenance": []
    },
    "kernelspec": {
      "name": "python3",
      "display_name": "Python 3"
    },
    "language_info": {
      "name": "python"
    },
    "accelerator": "GPU",
    "gpuClass": "standard"
  },
  "cells": [
    {
      "cell_type": "code",
      "source": [
        "!pip install wandb"
      ],
      "metadata": {
        "id": "Lmb_0AMuH5-X"
      },
      "execution_count": null,
      "outputs": []
    },
    {
      "cell_type": "code",
      "execution_count": 28,
      "metadata": {
        "id": "DdY4qeVd1SG6"
      },
      "outputs": [],
      "source": [
        "import tensorflow as tf\n",
        "from tensorflow.keras.layers import Conv2D,Flatten,Dense,MaxPool2D\n",
        "from tensorflow.keras import Model\n",
        "from tqdm import tqdm\n",
        "from tensorflow.keras.preprocessing.image import ImageDataGenerator\n",
        "from tensorflow.keras import layers\n",
        "import wandb\n",
        "from wandb.keras import WandbCallback\n",
        "import numpy as np"
      ]
    },
    {
      "cell_type": "code",
      "source": [
        "wandb.login()"
      ],
      "metadata": {
        "colab": {
          "base_uri": "https://localhost:8080/"
        },
        "id": "8Rp8ru6bPVuR",
        "outputId": "c1f453e4-5751-432e-84a7-e96b9c79d98a"
      },
      "execution_count": 21,
      "outputs": [
        {
          "output_type": "execute_result",
          "data": {
            "text/plain": [
              "True"
            ]
          },
          "metadata": {},
          "execution_count": 21
        }
      ]
    },
    {
      "cell_type": "code",
      "source": [
        "wandb.init(project=\"Face-Detection\", entity=\"gharabadiyan\")"
      ],
      "metadata": {
        "colab": {
          "base_uri": "https://localhost:8080/",
          "height": 91
        },
        "id": "hUCDWqAIQfx-",
        "outputId": "75adced4-cc71-4a52-cdfe-988f8a99e5b1"
      },
      "execution_count": 23,
      "outputs": [
        {
          "output_type": "display_data",
          "data": {
            "text/plain": [
              "<IPython.core.display.HTML object>"
            ],
            "text/html": [
              "Tracking run with wandb version 0.13.1"
            ]
          },
          "metadata": {}
        },
        {
          "output_type": "display_data",
          "data": {
            "text/plain": [
              "<IPython.core.display.HTML object>"
            ],
            "text/html": [
              "Run data is saved locally in <code>/content/wandb/run-20220810_145906-36eebgb4</code>"
            ]
          },
          "metadata": {}
        },
        {
          "output_type": "display_data",
          "data": {
            "text/plain": [
              "<IPython.core.display.HTML object>"
            ],
            "text/html": [
              "Syncing run <strong><a href=\"https://wandb.ai/gharabadiyan/Face-Detection/runs/36eebgb4\" target=\"_blank\">woven-meadow-1</a></strong> to <a href=\"https://wandb.ai/gharabadiyan/Face-Detection\" target=\"_blank\">Weights & Biases</a> (<a href=\"https://wandb.me/run\" target=\"_blank\">docs</a>)<br/>"
            ]
          },
          "metadata": {}
        },
        {
          "output_type": "execute_result",
          "data": {
            "text/html": [
              "<button onClick=\"this.nextSibling.style.display='block';this.style.display='none';\">Display W&B run</button><iframe src=\"https://wandb.ai/gharabadiyan/Face-Detection/runs/36eebgb4?jupyter=true\" style=\"border:none;width:100%;height:420px;display:none;\"></iframe>"
            ],
            "text/plain": [
              "<wandb.sdk.wandb_run.Run at 0x7f6782202690>"
            ]
          },
          "metadata": {},
          "execution_count": 23
        }
      ]
    },
    {
      "cell_type": "code",
      "source": [
        "config = wandb.config\n",
        "config.learning_rate = 0.001"
      ],
      "metadata": {
        "id": "Ts1QwFNwRUHu"
      },
      "execution_count": 24,
      "outputs": []
    },
    {
      "cell_type": "code",
      "source": [
        "train_data_path = '/content/drive/MyDrive/7-7 dataset'\n",
        "\n",
        "width = height = 224\n",
        "batch_size = 32\n",
        "epochs=15\n",
        "\n",
        "idg = ImageDataGenerator(\n",
        "    rescale = 1./255,\n",
        "    horizontal_flip = True,\n",
        "    brightness_range = (0.6,1.2),\n",
        "    zoom_range = 0.1,\n",
        "    shear_range = 0.3,\n",
        "    rotation_range = 15,\n",
        "    validation_split = 0.2\n",
        ")\n",
        "\n",
        "train_data = idg.flow_from_directory(\n",
        "    train_data_path,\n",
        "    target_size = (width,height),\n",
        "    class_mode = \"categorical\",\n",
        "    batch_size = batch_size,\n",
        "    subset = \"training\"\n",
        ")\n",
        "val_data = idg.flow_from_directory(\n",
        "    train_data_path,\n",
        "    target_size = (width,height),\n",
        "    class_mode = \"categorical\",\n",
        "    batch_size = batch_size,\n",
        "    subset = \"validation\"\n",
        ")\n",
        "\n"
      ],
      "metadata": {
        "colab": {
          "base_uri": "https://localhost:8080/"
        },
        "id": "ZLbav5eNA-sL",
        "outputId": "e241b431-9f4a-48da-8789-c2d64e7d5b2f"
      },
      "execution_count": null,
      "outputs": [
        {
          "output_type": "stream",
          "name": "stdout",
          "text": [
            "Found 1090 images belonging to 14 classes.\n",
            "Found 268 images belonging to 14 classes.\n"
          ]
        }
      ]
    },
    {
      "cell_type": "code",
      "source": [
        "class FaceNet(Model):\n",
        "  def __init__(self):\n",
        "    super().__init__()\n",
        "    \n",
        "    self.dense_1 = Dense(128,activation='relu')\n",
        "    self.dense_2 = Dense(14,activation='softmax')\n",
        "    self.dense_3 = Dense(32,activation='relu')\n",
        "    self.conv2d_1 = Conv2D(64,(3,3),activation='relu',input_shape=(width, height, 3))\n",
        "    self.flatten = Flatten()\n",
        "    self.conv2d_2 = Conv2D(64,(5,5),activation='relu')\n",
        "    self.max_pool = MaxPool2D()\n",
        "\n",
        "  def call(self,x):\n",
        "    k = self.conv2d_1(x)\n",
        "    y = self.max_pool(k)\n",
        "    z = self.conv2d_2(y)\n",
        "    u = self.flatten(y)\n",
        "    c = self.dense_1(u)\n",
        "    a = self.dense_3(c)\n",
        "    out = self.dense_2(a)\n",
        "\n",
        "    return out\n"
      ],
      "metadata": {
        "id": "H7-wjBO_FVDm"
      },
      "execution_count": null,
      "outputs": []
    },
    {
      "cell_type": "code",
      "source": [
        "model = FaceNet()"
      ],
      "metadata": {
        "id": "Za6hlpZ1fSzs"
      },
      "execution_count": null,
      "outputs": []
    },
    {
      "cell_type": "code",
      "source": [
        "optimizer = tf.keras.optimizers.Adam(learning_rate=config.learning_rate)\n",
        "\n",
        "loss_function = tf.keras.losses.CategoricalCrossentropy()"
      ],
      "metadata": {
        "id": "Ymi9gs2EfVMc"
      },
      "execution_count": 25,
      "outputs": []
    },
    {
      "cell_type": "code",
      "source": [
        "train_accuracy = tf.keras.metrics.CategoricalAccuracy()\n",
        "test_accuracy = tf.keras.metrics.CategoricalAccuracy()\n",
        "\n",
        "train_loss = tf.keras.metrics.MeanAbsoluteError()\n",
        "test_loss = tf.keras.metrics.MeanAbsoluteError()"
      ],
      "metadata": {
        "id": "4Yd6I6RlfZqQ"
      },
      "execution_count": 26,
      "outputs": []
    },
    {
      "cell_type": "code",
      "source": [
        "# train loop\n",
        "# fit function\n",
        "\n",
        "for epoch in range(epochs):\n",
        "  train_accuracy.reset_states()\n",
        "  test_accuracy.reset_states()\n",
        "  train_loss.reset_states()\n",
        "  test_loss.reset_states()\n",
        "\n",
        "  print('epoch:',epoch)\n",
        "  #Training ---------------------------------------------\n",
        "  for i ,(images, labels) in enumerate(tqdm(train_data)):\n",
        "    if len(train_data) <= i:\n",
        "            break\n",
        "    with tf.GradientTape() as gTape:\n",
        "      predictions = model(images)\n",
        "      loss = loss_function(labels,predictions)\n",
        "      train_loss(labels,predictions)\n",
        "      train_accuracy(labels,predictions)\n",
        "\n",
        "    # محاسبات مشتقات \n",
        "    gradients = gTape.gradient(loss,model.trainable_variables,unconnected_gradients=tf.UnconnectedGradients.ZERO)\n",
        "\n",
        "\n",
        "    # به روز رسانی وزن ها \n",
        "    optimizer.apply_gradients([\n",
        "    (grad, var) \n",
        "    for (grad, var) in zip(gradients, model.trainable_variables) \n",
        "    if grad is not None\n",
        "])\n",
        "  #Validation -----------------------------------------------\n",
        "  for i ,(images, labels) in enumerate(tqdm(val_data)):\n",
        "    if len(val_data) <= i:\n",
        "            break\n",
        "    predictions = model(images)\n",
        "    loss = loss_function(labels,predictions)\n",
        "    test_loss(labels,predictions)\n",
        "    test_accuracy(labels,predictions)\n",
        "\n",
        "\n",
        "\n",
        "  print('Train Accuracy:',train_accuracy.result())\n",
        "  print('Test Accuracy:',test_accuracy.result())\n",
        "  print('Train loss:',train_loss.result())\n",
        "  print('Test loss:',test_loss.result())\n",
        "  wandb.log({'epochs': epoch,\n",
        "                   'loss': np.mean(train_loss.result()),\n",
        "                   'acc': float(train_accuracy.result()), \n",
        "                   'val_loss': np.mean(test_loss.result()),\n",
        "                   'val_acc':float(test_accuracy.result())})\n"
      ],
      "metadata": {
        "colab": {
          "base_uri": "https://localhost:8080/"
        },
        "id": "5CszsFi0fkgb",
        "outputId": "5de71206-7481-4d79-c5b3-6132ec3537a2"
      },
      "execution_count": 29,
      "outputs": [
        {
          "output_type": "stream",
          "name": "stdout",
          "text": [
            "epoch: 0\n"
          ]
        },
        {
          "output_type": "stream",
          "name": "stderr",
          "text": [
            "100%|██████████| 35/35 [00:30<00:00,  1.17it/s]\n",
            "100%|██████████| 9/9 [00:07<00:00,  1.13it/s]\n"
          ]
        },
        {
          "output_type": "stream",
          "name": "stdout",
          "text": [
            "Train Accuracy: tf.Tensor(0.89816517, shape=(), dtype=float32)\n",
            "Test Accuracy: tf.Tensor(0.73880595, shape=(), dtype=float32)\n",
            "Train loss: tf.Tensor(0.0233667, shape=(), dtype=float32)\n",
            "Test loss: tf.Tensor(0.04238562, shape=(), dtype=float32)\n",
            "epoch: 1\n"
          ]
        },
        {
          "output_type": "stream",
          "name": "stderr",
          "text": [
            "100%|██████████| 35/35 [00:30<00:00,  1.14it/s]\n",
            "100%|██████████| 9/9 [00:07<00:00,  1.23it/s]\n"
          ]
        },
        {
          "output_type": "stream",
          "name": "stdout",
          "text": [
            "Train Accuracy: tf.Tensor(0.9321101, shape=(), dtype=float32)\n",
            "Test Accuracy: tf.Tensor(0.79850745, shape=(), dtype=float32)\n",
            "Train loss: tf.Tensor(0.016812913, shape=(), dtype=float32)\n",
            "Test loss: tf.Tensor(0.035126396, shape=(), dtype=float32)\n",
            "epoch: 2\n"
          ]
        },
        {
          "output_type": "stream",
          "name": "stderr",
          "text": [
            "100%|██████████| 35/35 [00:29<00:00,  1.19it/s]\n",
            "100%|██████████| 9/9 [00:07<00:00,  1.14it/s]\n"
          ]
        },
        {
          "output_type": "stream",
          "name": "stdout",
          "text": [
            "Train Accuracy: tf.Tensor(0.9385321, shape=(), dtype=float32)\n",
            "Test Accuracy: tf.Tensor(0.75373137, shape=(), dtype=float32)\n",
            "Train loss: tf.Tensor(0.01519025, shape=(), dtype=float32)\n",
            "Test loss: tf.Tensor(0.03856741, shape=(), dtype=float32)\n",
            "epoch: 3\n"
          ]
        },
        {
          "output_type": "stream",
          "name": "stderr",
          "text": [
            "100%|██████████| 35/35 [00:29<00:00,  1.18it/s]\n",
            "100%|██████████| 9/9 [00:07<00:00,  1.15it/s]\n"
          ]
        },
        {
          "output_type": "stream",
          "name": "stdout",
          "text": [
            "Train Accuracy: tf.Tensor(0.940367, shape=(), dtype=float32)\n",
            "Test Accuracy: tf.Tensor(0.73134327, shape=(), dtype=float32)\n",
            "Train loss: tf.Tensor(0.014068247, shape=(), dtype=float32)\n",
            "Test loss: tf.Tensor(0.042953186, shape=(), dtype=float32)\n",
            "epoch: 4\n"
          ]
        },
        {
          "output_type": "stream",
          "name": "stderr",
          "text": [
            "100%|██████████| 35/35 [00:30<00:00,  1.15it/s]\n",
            "100%|██████████| 9/9 [00:08<00:00,  1.11it/s]\n"
          ]
        },
        {
          "output_type": "stream",
          "name": "stdout",
          "text": [
            "Train Accuracy: tf.Tensor(0.9412844, shape=(), dtype=float32)\n",
            "Test Accuracy: tf.Tensor(0.7798507, shape=(), dtype=float32)\n",
            "Train loss: tf.Tensor(0.01473266, shape=(), dtype=float32)\n",
            "Test loss: tf.Tensor(0.034485936, shape=(), dtype=float32)\n",
            "epoch: 5\n"
          ]
        },
        {
          "output_type": "stream",
          "name": "stderr",
          "text": [
            "100%|██████████| 35/35 [00:29<00:00,  1.18it/s]\n",
            "100%|██████████| 9/9 [00:07<00:00,  1.15it/s]\n"
          ]
        },
        {
          "output_type": "stream",
          "name": "stdout",
          "text": [
            "Train Accuracy: tf.Tensor(0.8963303, shape=(), dtype=float32)\n",
            "Test Accuracy: tf.Tensor(0.7425373, shape=(), dtype=float32)\n",
            "Train loss: tf.Tensor(0.022720411, shape=(), dtype=float32)\n",
            "Test loss: tf.Tensor(0.04549013, shape=(), dtype=float32)\n",
            "epoch: 6\n"
          ]
        },
        {
          "output_type": "stream",
          "name": "stderr",
          "text": [
            "100%|██████████| 35/35 [00:29<00:00,  1.19it/s]\n",
            "100%|██████████| 9/9 [00:07<00:00,  1.15it/s]\n"
          ]
        },
        {
          "output_type": "stream",
          "name": "stdout",
          "text": [
            "Train Accuracy: tf.Tensor(0.9238532, shape=(), dtype=float32)\n",
            "Test Accuracy: tf.Tensor(0.7835821, shape=(), dtype=float32)\n",
            "Train loss: tf.Tensor(0.018378964, shape=(), dtype=float32)\n",
            "Test loss: tf.Tensor(0.0366267, shape=(), dtype=float32)\n",
            "epoch: 7\n"
          ]
        },
        {
          "output_type": "stream",
          "name": "stderr",
          "text": [
            "100%|██████████| 35/35 [00:29<00:00,  1.19it/s]\n",
            "100%|██████████| 9/9 [00:07<00:00,  1.13it/s]\n"
          ]
        },
        {
          "output_type": "stream",
          "name": "stdout",
          "text": [
            "Train Accuracy: tf.Tensor(0.9376147, shape=(), dtype=float32)\n",
            "Test Accuracy: tf.Tensor(0.7835821, shape=(), dtype=float32)\n",
            "Train loss: tf.Tensor(0.016159136, shape=(), dtype=float32)\n",
            "Test loss: tf.Tensor(0.035245247, shape=(), dtype=float32)\n",
            "epoch: 8\n"
          ]
        },
        {
          "output_type": "stream",
          "name": "stderr",
          "text": [
            "100%|██████████| 35/35 [00:29<00:00,  1.17it/s]\n",
            "100%|██████████| 9/9 [00:07<00:00,  1.13it/s]\n"
          ]
        },
        {
          "output_type": "stream",
          "name": "stdout",
          "text": [
            "Train Accuracy: tf.Tensor(0.9376147, shape=(), dtype=float32)\n",
            "Test Accuracy: tf.Tensor(0.76865673, shape=(), dtype=float32)\n",
            "Train loss: tf.Tensor(0.013698424, shape=(), dtype=float32)\n",
            "Test loss: tf.Tensor(0.036166947, shape=(), dtype=float32)\n",
            "epoch: 9\n"
          ]
        },
        {
          "output_type": "stream",
          "name": "stderr",
          "text": [
            "100%|██████████| 35/35 [00:29<00:00,  1.18it/s]\n",
            "100%|██████████| 9/9 [00:08<00:00,  1.12it/s]\n"
          ]
        },
        {
          "output_type": "stream",
          "name": "stdout",
          "text": [
            "Train Accuracy: tf.Tensor(0.9504587, shape=(), dtype=float32)\n",
            "Test Accuracy: tf.Tensor(0.75373137, shape=(), dtype=float32)\n",
            "Train loss: tf.Tensor(0.012585787, shape=(), dtype=float32)\n",
            "Test loss: tf.Tensor(0.040790025, shape=(), dtype=float32)\n",
            "epoch: 10\n"
          ]
        },
        {
          "output_type": "stream",
          "name": "stderr",
          "text": [
            "100%|██████████| 35/35 [00:29<00:00,  1.17it/s]\n",
            "100%|██████████| 9/9 [00:07<00:00,  1.21it/s]\n"
          ]
        },
        {
          "output_type": "stream",
          "name": "stdout",
          "text": [
            "Train Accuracy: tf.Tensor(0.96605504, shape=(), dtype=float32)\n",
            "Test Accuracy: tf.Tensor(0.8097015, shape=(), dtype=float32)\n",
            "Train loss: tf.Tensor(0.009546136, shape=(), dtype=float32)\n",
            "Test loss: tf.Tensor(0.03165107, shape=(), dtype=float32)\n",
            "epoch: 11\n"
          ]
        },
        {
          "output_type": "stream",
          "name": "stderr",
          "text": [
            "100%|██████████| 35/35 [00:30<00:00,  1.15it/s]\n",
            "100%|██████████| 9/9 [00:07<00:00,  1.15it/s]\n"
          ]
        },
        {
          "output_type": "stream",
          "name": "stdout",
          "text": [
            "Train Accuracy: tf.Tensor(0.9623853, shape=(), dtype=float32)\n",
            "Test Accuracy: tf.Tensor(0.76492536, shape=(), dtype=float32)\n",
            "Train loss: tf.Tensor(0.009197387, shape=(), dtype=float32)\n",
            "Test loss: tf.Tensor(0.0387171, shape=(), dtype=float32)\n",
            "epoch: 12\n"
          ]
        },
        {
          "output_type": "stream",
          "name": "stderr",
          "text": [
            "100%|██████████| 35/35 [00:29<00:00,  1.17it/s]\n",
            "100%|██████████| 9/9 [00:08<00:00,  1.12it/s]\n"
          ]
        },
        {
          "output_type": "stream",
          "name": "stdout",
          "text": [
            "Train Accuracy: tf.Tensor(0.9678899, shape=(), dtype=float32)\n",
            "Test Accuracy: tf.Tensor(0.78731346, shape=(), dtype=float32)\n",
            "Train loss: tf.Tensor(0.0077681034, shape=(), dtype=float32)\n",
            "Test loss: tf.Tensor(0.034146745, shape=(), dtype=float32)\n",
            "epoch: 13\n"
          ]
        },
        {
          "output_type": "stream",
          "name": "stderr",
          "text": [
            "100%|██████████| 35/35 [00:29<00:00,  1.17it/s]\n",
            "100%|██████████| 9/9 [00:07<00:00,  1.15it/s]\n"
          ]
        },
        {
          "output_type": "stream",
          "name": "stdout",
          "text": [
            "Train Accuracy: tf.Tensor(0.97431195, shape=(), dtype=float32)\n",
            "Test Accuracy: tf.Tensor(0.8208955, shape=(), dtype=float32)\n",
            "Train loss: tf.Tensor(0.0070416224, shape=(), dtype=float32)\n",
            "Test loss: tf.Tensor(0.027857073, shape=(), dtype=float32)\n",
            "epoch: 14\n"
          ]
        },
        {
          "output_type": "stream",
          "name": "stderr",
          "text": [
            "100%|██████████| 35/35 [00:29<00:00,  1.18it/s]\n",
            "100%|██████████| 9/9 [00:07<00:00,  1.14it/s]"
          ]
        },
        {
          "output_type": "stream",
          "name": "stdout",
          "text": [
            "Train Accuracy: tf.Tensor(0.9477064, shape=(), dtype=float32)\n",
            "Test Accuracy: tf.Tensor(0.76119405, shape=(), dtype=float32)\n",
            "Train loss: tf.Tensor(0.011436544, shape=(), dtype=float32)\n",
            "Test loss: tf.Tensor(0.03628528, shape=(), dtype=float32)\n"
          ]
        },
        {
          "output_type": "stream",
          "name": "stderr",
          "text": [
            "\n"
          ]
        }
      ]
    },
    {
      "cell_type": "code",
      "source": [
        "model.save_weights('detect_face.h5')"
      ],
      "metadata": {
        "id": "LDh2tprHfs21"
      },
      "execution_count": 32,
      "outputs": []
    },
    {
      "cell_type": "code",
      "source": [
        ""
      ],
      "metadata": {
        "id": "jptxlZ3MU226"
      },
      "execution_count": null,
      "outputs": []
    }
  ]
}