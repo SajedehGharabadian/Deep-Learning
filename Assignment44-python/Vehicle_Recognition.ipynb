{
  "cells": [
    {
      "cell_type": "markdown",
      "source": [
        ""
      ],
      "metadata": {
        "id": "NOzvnekavyp0"
      }
    },
    {
      "cell_type": "code",
      "execution_count": null,
      "metadata": {
        "id": "_HFbNCkuvXqP",
        "colab": {
          "base_uri": "https://localhost:8080/"
        },
        "outputId": "2d23c93d-00b2-4078-9ad3-01f6daa24f7a"
      },
      "outputs": [
        {
          "output_type": "stream",
          "name": "stdout",
          "text": [
            "Installing collected packages: smmap, gitdb, shortuuid, setproctitle, sentry-sdk, pathtools, GitPython, docker-pycreds, wandb\n",
            "Successfully installed GitPython-3.1.27 docker-pycreds-0.4.0 gitdb-4.0.9 pathtools-0.1.2 sentry-sdk-1.5.12 setproctitle-1.2.3 shortuuid-1.0.9 smmap-5.0.0 wandb-0.12.18\n"
          ]
        }
      ],
      "source": [
        "!pip install wandb"
      ]
    },
    {
      "cell_type": "code",
      "execution_count": null,
      "metadata": {
        "id": "TxDIqpoMvchy"
      },
      "outputs": [],
      "source": [
        "import tensorflow as tf\n",
        "from tensorflow.keras.preprocessing.image import ImageDataGenerator\n",
        "from tensorflow.keras.layers import Conv2D,MaxPool2D,Flatten,Dense\n",
        "import wandb\n",
        "from wandb.keras import WandbCallback\n",
        "\n",
        "import numpy as np\n",
        "import cv2\n",
        "from sklearn.metrics import confusion_matrix\n",
        "import seaborn as sn\n",
        "import matplotlib.pyplot as plt\n"
      ]
    },
    {
      "cell_type": "code",
      "execution_count": null,
      "metadata": {
        "colab": {
          "base_uri": "https://localhost:8080/",
          "height": 121
        },
        "id": "GIo2ZpXtvwFW",
        "outputId": "9a5207cd-b5e1-4b44-8125-fcbd467c0beb"
      },
      "outputs": [
        {
          "output_type": "display_data",
          "data": {
            "text/plain": [
              "<IPython.core.display.Javascript object>"
            ],
            "application/javascript": [
              "\n",
              "        window._wandbApiKey = new Promise((resolve, reject) => {\n",
              "            function loadScript(url) {\n",
              "            return new Promise(function(resolve, reject) {\n",
              "                let newScript = document.createElement(\"script\");\n",
              "                newScript.onerror = reject;\n",
              "                newScript.onload = resolve;\n",
              "                document.body.appendChild(newScript);\n",
              "                newScript.src = url;\n",
              "            });\n",
              "            }\n",
              "            loadScript(\"https://cdn.jsdelivr.net/npm/postmate/build/postmate.min.js\").then(() => {\n",
              "            const iframe = document.createElement('iframe')\n",
              "            iframe.style.cssText = \"width:0;height:0;border:none\"\n",
              "            document.body.appendChild(iframe)\n",
              "            const handshake = new Postmate({\n",
              "                container: iframe,\n",
              "                url: 'https://wandb.ai/authorize'\n",
              "            });\n",
              "            const timeout = setTimeout(() => reject(\"Couldn't auto authenticate\"), 5000)\n",
              "            handshake.then(function(child) {\n",
              "                child.on('authorize', data => {\n",
              "                    clearTimeout(timeout)\n",
              "                    resolve(data)\n",
              "                });\n",
              "            });\n",
              "            })\n",
              "        });\n",
              "    "
            ]
          },
          "metadata": {}
        },
        {
          "output_type": "stream",
          "name": "stderr",
          "text": [
            "\u001b[34m\u001b[1mwandb\u001b[0m: Logging into wandb.ai. (Learn how to deploy a W&B server locally: https://wandb.me/wandb-server)\n",
            "\u001b[34m\u001b[1mwandb\u001b[0m: You can find your API key in your browser here: https://wandb.ai/authorize\n"
          ]
        },
        {
          "name": "stdout",
          "output_type": "stream",
          "text": [
            "wandb: Paste an API key from your profile and hit enter, or press ctrl+c to quit: ··········\n"
          ]
        },
        {
          "output_type": "stream",
          "name": "stderr",
          "text": [
            "\u001b[34m\u001b[1mwandb\u001b[0m: Appending key for api.wandb.ai to your netrc file: /root/.netrc\n"
          ]
        },
        {
          "output_type": "execute_result",
          "data": {
            "text/plain": [
              "True"
            ]
          },
          "metadata": {},
          "execution_count": 4
        }
      ],
      "source": [
        "wandb.login()"
      ]
    },
    {
      "cell_type": "code",
      "execution_count": null,
      "metadata": {
        "colab": {
          "base_uri": "https://localhost:8080/",
          "height": 108
        },
        "id": "cd3F0Bkgv1RR",
        "outputId": "c1e3a1b0-ad59-424b-dde3-4ffce219b40c"
      },
      "outputs": [
        {
          "output_type": "stream",
          "name": "stderr",
          "text": [
            "\u001b[34m\u001b[1mwandb\u001b[0m: Currently logged in as: \u001b[33mgharabadiyan\u001b[0m. Use \u001b[1m`wandb login --relogin`\u001b[0m to force relogin\n"
          ]
        },
        {
          "output_type": "display_data",
          "data": {
            "text/plain": [
              "<IPython.core.display.HTML object>"
            ],
            "text/html": [
              "Tracking run with wandb version 0.12.18"
            ]
          },
          "metadata": {}
        },
        {
          "output_type": "display_data",
          "data": {
            "text/plain": [
              "<IPython.core.display.HTML object>"
            ],
            "text/html": [
              "Run data is saved locally in <code>/content/wandb/run-20220616_092359-w5u5wyuy</code>"
            ]
          },
          "metadata": {}
        },
        {
          "output_type": "display_data",
          "data": {
            "text/plain": [
              "<IPython.core.display.HTML object>"
            ],
            "text/html": [
              "Syncing run <strong><a href=\"https://wandb.ai/gharabadiyan/Vehicles%20Classificationn/runs/w5u5wyuy\" target=\"_blank\">noble-capybara-1</a></strong> to <a href=\"https://wandb.ai/gharabadiyan/Vehicles%20Classificationn\" target=\"_blank\">Weights & Biases</a> (<a href=\"https://wandb.me/run\" target=\"_blank\">docs</a>)<br/>"
            ]
          },
          "metadata": {}
        },
        {
          "output_type": "execute_result",
          "data": {
            "text/html": [
              "<button onClick=\"this.nextSibling.style.display='block';this.style.display='none';\">Display W&B run</button><iframe src=\"https://wandb.ai/gharabadiyan/Vehicles%20Classificationn/runs/w5u5wyuy?jupyter=true\" style=\"border:none;width:100%;height:420px;display:none;\"></iframe>"
            ],
            "text/plain": [
              "<wandb.sdk.wandb_run.Run at 0x7f2be42a96d0>"
            ]
          },
          "metadata": {},
          "execution_count": 5
        }
      ],
      "source": [
        "wandb.init(project=\"Vehicles Classificationn\", entity=\"gharabadiyan\")"
      ]
    },
    {
      "cell_type": "code",
      "execution_count": null,
      "metadata": {
        "colab": {
          "base_uri": "https://localhost:8080/"
        },
        "id": "7DlJ3Tcav9JU",
        "outputId": "070343e9-93db-4fbc-fba2-b7790e1b6583"
      },
      "outputs": [
        {
          "output_type": "stream",
          "name": "stderr",
          "text": [
            "/usr/local/lib/python3.7/dist-packages/keras_preprocessing/image/utils.py:179: UserWarning: Using \".tiff\" files with multiple bands will cause distortion. Please verify your output.\n",
            "  warnings.warn('Using \".tiff\" files with multiple bands '\n"
          ]
        },
        {
          "output_type": "stream",
          "name": "stdout",
          "text": [
            "Found 638 images belonging to 4 classes.\n",
            "Found 210 images belonging to 4 classes.\n"
          ]
        }
      ],
      "source": [
        "dataset_path = '/content/drive/MyDrive/photos'\n",
        "width = height = 224\n",
        "\n",
        "idg = ImageDataGenerator(\n",
        "    \n",
        "    #Augmentation\n",
        "    rescale = 1./255,\n",
        "    horizontal_flip = True,\n",
        "    zoom_range = 0.1,\n",
        "    brightness_range = (0.9,1.1),\n",
        "    rotation_range = 15,\n",
        "    validation_split = 0.25 #validation data\n",
        ")\n",
        "\n",
        "train_data = idg.flow_from_directory(  #eamal taghirat bar roye tasavir\n",
        "    dataset_path,\n",
        "    target_size = (width,height),\n",
        "    # save_to_dir = '/content/drive/MyDrive/Augmented_data',\n",
        "    class_mode = \"categorical\",\n",
        "    subset = \"training\"\n",
        ")\n",
        "\n",
        "val_data = idg.flow_from_directory(  #eamal taghirat bar roye tasavir\n",
        "    dataset_path,\n",
        "    target_size = (width,height),\n",
        "    class_mode = \"categorical\",\n",
        "    subset = \"validation\"\n",
        ")"
      ]
    },
    {
      "cell_type": "code",
      "execution_count": null,
      "metadata": {
        "id": "HkWNYu2JwB9c"
      },
      "outputs": [],
      "source": [
        "model = tf.keras.models.Sequential([\n",
        "  Conv2D(32,(3,3),activation='relu',input_shape=(width,height,3)),\n",
        "  Conv2D(32,(3,3),activation='relu'),\n",
        "  MaxPool2D(),\n",
        "  Conv2D(32,(3,3),activation='relu'),\n",
        "  Conv2D(32,(3,3),activation='relu'),\n",
        "  MaxPool2D(),\n",
        "  Conv2D(64,(3,3),activation='relu'),\n",
        "  Conv2D(64,(3,3),activation='relu'),\n",
        "  MaxPool2D(),\n",
        "\n",
        "  Flatten(),\n",
        "  Dense(256,activation='relu'),\n",
        "  Dense(4,activation='softmax')\n",
        "])"
      ]
    },
    {
      "cell_type": "code",
      "execution_count": null,
      "metadata": {
        "id": "9pJhmB00wLvX"
      },
      "outputs": [],
      "source": [
        "model.compile(optimizer=tf.keras.optimizers.Adam(),\n",
        "              loss=tf.keras.losses.categorical_crossentropy,\n",
        "              metrics=['accuracy'])"
      ]
    },
    {
      "cell_type": "code",
      "execution_count": null,
      "metadata": {
        "colab": {
          "base_uri": "https://localhost:8080/"
        },
        "id": "MmsdLKT5wPQr",
        "outputId": "e5446865-8611-41a9-a728-7e95d91beb0b"
      },
      "outputs": [
        {
          "output_type": "stream",
          "name": "stderr",
          "text": [
            "\u001b[34m\u001b[1mwandb\u001b[0m: \u001b[33mWARNING\u001b[0m The save_model argument by default saves the model in the HDF5 format that cannot save custom objects like subclassed models and custom layers. This behavior will be deprecated in a future release in favor of the SavedModel format. Meanwhile, the HDF5 model is saved as W&B files and the SavedModel as W&B Artifacts.\n"
          ]
        },
        {
          "output_type": "stream",
          "name": "stdout",
          "text": [
            "Epoch 1/20\n",
            "20/20 [==============================] - 566s 28s/step - loss: 1.3941 - accuracy: 0.2947 - val_loss: 1.3367 - val_accuracy: 0.3857 - _timestamp: 1655372105.0000 - _runtime: 666.0000\n",
            "Epoch 2/20\n",
            "20/20 [==============================] - 30s 2s/step - loss: 1.2725 - accuracy: 0.4373 - val_loss: 1.2316 - val_accuracy: 0.4190 - _timestamp: 1655372192.0000 - _runtime: 753.0000\n",
            "Epoch 3/20\n",
            "20/20 [==============================] - 30s 2s/step - loss: 1.1744 - accuracy: 0.4592 - val_loss: 1.1089 - val_accuracy: 0.5667 - _timestamp: 1655372221.0000 - _runtime: 782.0000\n",
            "Epoch 4/20\n",
            "20/20 [==============================] - 30s 2s/step - loss: 0.9998 - accuracy: 0.5909 - val_loss: 1.0104 - val_accuracy: 0.5048 - _timestamp: 1655372251.0000 - _runtime: 812.0000\n",
            "Epoch 5/20\n",
            "20/20 [==============================] - 30s 2s/step - loss: 0.9805 - accuracy: 0.5705 - val_loss: 0.9067 - val_accuracy: 0.5905 - _timestamp: 1655372281.0000 - _runtime: 842.0000\n",
            "Epoch 6/20\n",
            "20/20 [==============================] - 30s 2s/step - loss: 0.9689 - accuracy: 0.5799 - val_loss: 1.1672 - val_accuracy: 0.4476 - _timestamp: 1655372312.0000 - _runtime: 873.0000\n",
            "Epoch 7/20\n",
            "20/20 [==============================] - 30s 2s/step - loss: 0.9623 - accuracy: 0.5972 - val_loss: 0.9928 - val_accuracy: 0.6095 - _timestamp: 1655372342.0000 - _runtime: 903.0000\n",
            "Epoch 8/20\n",
            "20/20 [==============================] - 31s 2s/step - loss: 0.8513 - accuracy: 0.6426 - val_loss: 0.9104 - val_accuracy: 0.6238 - _timestamp: 1655372373.0000 - _runtime: 934.0000\n",
            "Epoch 9/20\n",
            "20/20 [==============================] - 30s 2s/step - loss: 0.7730 - accuracy: 0.6693 - val_loss: 0.9179 - val_accuracy: 0.6143 - _timestamp: 1655372403.0000 - _runtime: 964.0000\n",
            "Epoch 10/20\n",
            "20/20 [==============================] - 29s 1s/step - loss: 0.7209 - accuracy: 0.7038 - val_loss: 1.1111 - val_accuracy: 0.5571 - _timestamp: 1655372432.0000 - _runtime: 993.0000\n",
            "Epoch 11/20\n",
            "20/20 [==============================] - 30s 2s/step - loss: 0.6502 - accuracy: 0.7163 - val_loss: 0.9905 - val_accuracy: 0.6143 - _timestamp: 1655372462.0000 - _runtime: 1023.0000\n",
            "Epoch 12/20\n",
            "20/20 [==============================] - 30s 2s/step - loss: 0.5947 - accuracy: 0.7304 - val_loss: 0.9517 - val_accuracy: 0.5857 - _timestamp: 1655372492.0000 - _runtime: 1053.0000\n",
            "Epoch 13/20\n",
            "20/20 [==============================] - 30s 2s/step - loss: 0.5909 - accuracy: 0.7696 - val_loss: 0.9289 - val_accuracy: 0.5905 - _timestamp: 1655372522.0000 - _runtime: 1083.0000\n",
            "Epoch 14/20\n",
            "20/20 [==============================] - 30s 1s/step - loss: 0.5182 - accuracy: 0.8197 - val_loss: 0.9891 - val_accuracy: 0.6476 - _timestamp: 1655372552.0000 - _runtime: 1113.0000\n",
            "Epoch 15/20\n",
            "20/20 [==============================] - 30s 1s/step - loss: 0.5806 - accuracy: 0.7743 - val_loss: 0.9689 - val_accuracy: 0.6381 - _timestamp: 1655372582.0000 - _runtime: 1143.0000\n",
            "Epoch 16/20\n",
            "20/20 [==============================] - 29s 1s/step - loss: 0.4506 - accuracy: 0.8213 - val_loss: 1.1080 - val_accuracy: 0.6429 - _timestamp: 1655372611.0000 - _runtime: 1172.0000\n",
            "Epoch 17/20\n",
            "20/20 [==============================] - 29s 1s/step - loss: 0.4323 - accuracy: 0.8370 - val_loss: 0.9988 - val_accuracy: 0.6476 - _timestamp: 1655372640.0000 - _runtime: 1201.0000\n",
            "Epoch 18/20\n",
            "20/20 [==============================] - 30s 2s/step - loss: 0.3746 - accuracy: 0.8527 - val_loss: 0.9672 - val_accuracy: 0.6714 - _timestamp: 1655372671.0000 - _runtime: 1232.0000\n",
            "Epoch 19/20\n",
            "20/20 [==============================] - 29s 1s/step - loss: 0.3898 - accuracy: 0.8589 - val_loss: 0.9995 - val_accuracy: 0.6476 - _timestamp: 1655372700.0000 - _runtime: 1261.0000\n",
            "Epoch 20/20\n",
            "20/20 [==============================] - 29s 1s/step - loss: 0.3605 - accuracy: 0.8668 - val_loss: 1.0291 - val_accuracy: 0.6190 - _timestamp: 1655372729.0000 - _runtime: 1290.0000\n"
          ]
        },
        {
          "output_type": "execute_result",
          "data": {
            "text/plain": [
              "<keras.callbacks.History at 0x7f2bd06a6390>"
            ]
          },
          "metadata": {},
          "execution_count": 9
        }
      ],
      "source": [
        "model.fit(train_data,validation_data=val_data,epochs=20,callbacks=[WandbCallback()])"
      ]
    },
    {
      "cell_type": "code",
      "execution_count": null,
      "metadata": {
        "id": "N0yVuHD2BQS1"
      },
      "outputs": [],
      "source": [
        "model.save('model/Classification.h5')"
      ]
    },
    {
      "cell_type": "code",
      "execution_count": null,
      "metadata": {
        "colab": {
          "base_uri": "https://localhost:8080/"
        },
        "id": "pct7QZ_hwSw0",
        "outputId": "3d3f375e-8812-4547-9e0f-1b7f9fa9a35a"
      },
      "outputs": [
        {
          "output_type": "stream",
          "name": "stdout",
          "text": [
            "Found 103 images belonging to 4 classes.\n"
          ]
        }
      ],
      "source": [
        "test_path = '/content/drive/MyDrive/test data'\n",
        "\n",
        "idg = ImageDataGenerator(\n",
        "    rescale = 1./255\n",
        ")\n",
        "\n",
        "test_data = idg.flow_from_directory( \n",
        "    test_path,\n",
        "    target_size = (width,height),\n",
        "    class_mode = \"categorical\",\n",
        ")"
      ]
    },
    {
      "cell_type": "code",
      "execution_count": null,
      "metadata": {
        "colab": {
          "base_uri": "https://localhost:8080/"
        },
        "id": "r3N9RbuirAVU",
        "outputId": "ff2ccee5-2063-4fbf-a863-6e0830fbad96"
      },
      "outputs": [
        {
          "output_type": "stream",
          "name": "stdout",
          "text": [
            "4/4 [==============================] - 60s 20s/step - loss: 0.6475 - accuracy: 0.7961\n"
          ]
        },
        {
          "output_type": "execute_result",
          "data": {
            "text/plain": [
              "[0.6474512219429016, 0.7961165308952332]"
            ]
          },
          "metadata": {},
          "execution_count": 12
        }
      ],
      "source": [
        "model.evaluate(test_data)"
      ]
    },
    {
      "cell_type": "code",
      "execution_count": null,
      "metadata": {
        "id": "M1IIQllfxrgC"
      },
      "outputs": [],
      "source": [
        "Y_pred = model.predict(test_data)\n",
        "y_pred = np.argmax(Y_pred, axis=1)\n",
        "conf_mat = confusion_matrix(test_data.classes, y_pred)"
      ]
    },
    {
      "cell_type": "code",
      "source": [
        "sn.heatmap(conf_mat, annot=True)\n",
        "plt.imshow(conf_mat)"
      ],
      "metadata": {
        "colab": {
          "base_uri": "https://localhost:8080/",
          "height": 282
        },
        "id": "EJ_K3sAo-rRm",
        "outputId": "d4da2a12-58ad-4d9e-b247-71ec0ca8a934"
      },
      "execution_count": null,
      "outputs": [
        {
          "output_type": "execute_result",
          "data": {
            "text/plain": [
              "<matplotlib.image.AxesImage at 0x7f2b620e9150>"
            ]
          },
          "metadata": {},
          "execution_count": 19
        },
        {
          "output_type": "display_data",
          "data": {
            "text/plain": [
              "<Figure size 432x288 with 2 Axes>"
            ],
            "image/png": "[encoded data removed]"
          },
          "metadata": {
            "needs_background": "light"
          }
        }
      ]
    },
    {
      "cell_type": "code",
      "source": [
        ""
      ],
      "metadata": {
        "id": "3qyGPQvD_Xmf"
      },
      "execution_count": null,
      "outputs": []
    }
  ],
  "metadata": {
    "accelerator": "GPU",
    "colab": {
      "name": "Vehicle_Recognition.ipynb",
      "provenance": []
    },
    "gpuClass": "standard",
    "kernelspec": {
      "display_name": "Python 3",
      "name": "python3"
    },
    "language_info": {
      "name": "python"
    }
  },
  "nbformat": 4,
  "nbformat_minor": 0
}