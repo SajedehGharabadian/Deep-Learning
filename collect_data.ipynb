{
 "cells": [
  {
   "cell_type": "code",
   "execution_count": 1,
   "id": "0b393bbc-3960-4002-940d-5c6ebc51d7ec",
   "metadata": {},
   "outputs": [],
   "source": [
    "from deepface import DeepFace\n",
    "import csv"
   ]
  },
  {
   "cell_type": "code",
   "execution_count": 2,
   "id": "eff60c77-ffc3-4c46-be4c-920125538198",
   "metadata": {},
   "outputs": [
    {
     "ename": "NameError",
     "evalue": "name 'csv_file' is not defined",
     "output_type": "error",
     "traceback": [
      "\u001b[1;31m---------------------------------------------------------------------------\u001b[0m",
      "\u001b[1;31mNameError\u001b[0m                                 Traceback (most recent call last)",
      "\u001b[1;32m~\\AppData\\Local\\Temp\\ipykernel_17252\\940777558.py\u001b[0m in \u001b[0;36m<module>\u001b[1;34m\u001b[0m\n\u001b[0;32m     34\u001b[0m \u001b[1;33m\u001b[0m\u001b[0m\n\u001b[0;32m     35\u001b[0m \u001b[1;33m\u001b[0m\u001b[0m\n\u001b[1;32m---> 36\u001b[1;33m \u001b[0mcsv_file\u001b[0m\u001b[1;33m.\u001b[0m\u001b[0mclose\u001b[0m\u001b[1;33m(\u001b[0m\u001b[1;33m)\u001b[0m\u001b[1;33m\u001b[0m\u001b[1;33m\u001b[0m\u001b[0m\n\u001b[0m",
      "\u001b[1;31mNameError\u001b[0m: name 'csv_file' is not defined"
     ]
    }
   ],
   "source": [
    "filename = \"Arcface_data.csv\"\n",
    "\n",
    "rows = [i for i in range(512)]\n",
    "rows.append('label')\n",
    "with open(filename, 'w', newline='') as f:\n",
    "    writer = csv.writer(f)\n",
    "    writer.writerow(rows)\n",
    "    for i in range(1,41):\n",
    "        embedding = DeepFace.represent(img_path = \"Bahram Radan/Bahram Radan (\"+str(i)+\").jpg\", model_name = 'ArcFace')\n",
    "        embedding.append(0)\n",
    "\n",
    "        writer = csv.writer(f)\n",
    "        \n",
    "        # writing the fields\n",
    "        writer.writerow(embedding)\n",
    "        \n",
    "    for i in range(1,41):\n",
    "        embedding = DeepFace.represent(img_path = \"behnosh_tabatabei/behnoosh_tabatabaee (\"+str(i)+\").jpg\", model_name = 'ArcFace')\n",
    "        embedding.append(1)\n",
    "\n",
    "        writer = csv.writer(f)\n",
    "        \n",
    "        # writing the fields\n",
    "        writer.writerow(embedding)\n",
    "    for i in range(1,41):\n",
    "        embedding = DeepFace.represent(img_path = \"shahram_nazeri/shahram_nzeri (\"+str(i)+\").jpg\", model_name = 'ArcFace')\n",
    "        embedding.append(2)\n",
    "\n",
    "        writer = csv.writer(f)\n",
    "        \n",
    "        # writing the fields\n",
    "        writer.writerow(embedding)\n",
    "    "
   ]
  },
  {
   "cell_type": "code",
   "execution_count": null,
   "id": "45db5c81-66de-456d-a319-14d50bc4db02",
   "metadata": {},
   "outputs": [],
   "source": []
  },
  {
   "cell_type": "code",
   "execution_count": null,
   "id": "58675620-7499-47b6-be63-d3897c82c963",
   "metadata": {},
   "outputs": [],
   "source": []
  }
 ],
 "metadata": {
  "kernelspec": {
   "display_name": "Python 3 (ipykernel)",
   "language": "python",
   "name": "python3"
  },
  "language_info": {
   "codemirror_mode": {
    "name": "ipython",
    "version": 3
   },
   "file_extension": ".py",
   "mimetype": "text/x-python",
   "name": "python",
   "nbconvert_exporter": "python",
   "pygments_lexer": "ipython3",
   "version": "3.7.9"
  }
 },
 "nbformat": 4,
 "nbformat_minor": 5
}
