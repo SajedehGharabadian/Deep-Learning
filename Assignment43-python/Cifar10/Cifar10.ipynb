{
  "cells": [
    {
      "cell_type": "code",
      "source": [
        "!pip install wandb"
      ],
      "metadata": {
        "id": "xkTvXb8h97FK"
      },
      "execution_count": null,
      "outputs": []
    },
    {
      "cell_type": "code",
      "execution_count": 2,
      "metadata": {
        "id": "Ls5CzJwX2RoD"
      },
      "outputs": [],
      "source": [
        "import tensorflow as tf\n",
        "from tensorflow.keras import layers\n",
        "import numpy as np\n",
        "from sklearn.model_selection import train_test_split\n",
        "import wandb\n",
        "from wandb.keras import WandbCallback"
      ]
    },
    {
      "cell_type": "code",
      "source": [
        "wandb.login()"
      ],
      "metadata": {
        "colab": {
          "base_uri": "https://localhost:8080/",
          "height": 104
        },
        "id": "blmjtOxM-BlE",
        "outputId": "523fd244-2f4e-42a1-d30e-263f88e55fd9"
      },
      "execution_count": 3,
      "outputs": [
        {
          "output_type": "display_data",
          "data": {
            "text/plain": [
              "<IPython.core.display.Javascript object>"
            ],
            "application/javascript": [
              "\n",
              "        window._wandbApiKey = new Promise((resolve, reject) => {\n",
              "            function loadScript(url) {\n",
              "            return new Promise(function(resolve, reject) {\n",
              "                let newScript = document.createElement(\"script\");\n",
              "                newScript.onerror = reject;\n",
              "                newScript.onload = resolve;\n",
              "                document.body.appendChild(newScript);\n",
              "                newScript.src = url;\n",
              "            });\n",
              "            }\n",
              "            loadScript(\"https://cdn.jsdelivr.net/npm/postmate/build/postmate.min.js\").then(() => {\n",
              "            const iframe = document.createElement('iframe')\n",
              "            iframe.style.cssText = \"width:0;height:0;border:none\"\n",
              "            document.body.appendChild(iframe)\n",
              "            const handshake = new Postmate({\n",
              "                container: iframe,\n",
              "                url: 'https://wandb.ai/authorize'\n",
              "            });\n",
              "            const timeout = setTimeout(() => reject(\"Couldn't auto authenticate\"), 5000)\n",
              "            handshake.then(function(child) {\n",
              "                child.on('authorize', data => {\n",
              "                    clearTimeout(timeout)\n",
              "                    resolve(data)\n",
              "                });\n",
              "            });\n",
              "            })\n",
              "        });\n",
              "    "
            ]
          },
          "metadata": {}
        },
        {
          "output_type": "stream",
          "name": "stderr",
          "text": [
            "\u001b[34m\u001b[1mwandb\u001b[0m: You can find your API key in your browser here: https://wandb.ai/authorize\n"
          ]
        },
        {
          "name": "stdout",
          "output_type": "stream",
          "text": [
            "wandb: Paste an API key from your profile and hit enter, or press ctrl+c to quit: ··········\n"
          ]
        },
        {
          "output_type": "stream",
          "name": "stderr",
          "text": [
            "\u001b[34m\u001b[1mwandb\u001b[0m: Appending key for api.wandb.ai to your netrc file: /root/.netrc\n"
          ]
        },
        {
          "output_type": "execute_result",
          "data": {
            "text/plain": [
              "True"
            ]
          },
          "metadata": {},
          "execution_count": 3
        }
      ]
    },
    {
      "cell_type": "code",
      "source": [
        "wandb.init(project=\"Cifar10\", entity=\"gharabadiyan\")"
      ],
      "metadata": {
        "colab": {
          "base_uri": "https://localhost:8080/",
          "height": 108
        },
        "id": "hEMs_8GA-c3_",
        "outputId": "512ea92f-b5c5-4db3-a85f-733f4bd6c76c"
      },
      "execution_count": 4,
      "outputs": [
        {
          "output_type": "stream",
          "name": "stderr",
          "text": [
            "\u001b[34m\u001b[1mwandb\u001b[0m: Currently logged in as: \u001b[33mgharabadiyan\u001b[0m. Use \u001b[1m`wandb login --relogin`\u001b[0m to force relogin\n"
          ]
        },
        {
          "output_type": "display_data",
          "data": {
            "text/plain": [
              "<IPython.core.display.HTML object>"
            ],
            "text/html": [
              "Tracking run with wandb version 0.12.17"
            ]
          },
          "metadata": {}
        },
        {
          "output_type": "display_data",
          "data": {
            "text/plain": [
              "<IPython.core.display.HTML object>"
            ],
            "text/html": [
              "Run data is saved locally in <code>/content/wandb/run-20220608_062209-3stqi41r</code>"
            ]
          },
          "metadata": {}
        },
        {
          "output_type": "display_data",
          "data": {
            "text/plain": [
              "<IPython.core.display.HTML object>"
            ],
            "text/html": [
              "Syncing run <strong><a href=\"https://wandb.ai/gharabadiyan/Cifar10/runs/3stqi41r\" target=\"_blank\">dazzling-brook-1</a></strong> to <a href=\"https://wandb.ai/gharabadiyan/Cifar10\" target=\"_blank\">Weights & Biases</a> (<a href=\"https://wandb.me/run\" target=\"_blank\">docs</a>)<br/>"
            ]
          },
          "metadata": {}
        },
        {
          "output_type": "execute_result",
          "data": {
            "text/html": [
              "<button onClick=\"this.nextSibling.style.display='block';this.style.display='none';\">Display W&B run</button><iframe src=\"https://wandb.ai/gharabadiyan/Cifar10/runs/3stqi41r?jupyter=true\" style=\"border:none;width:100%;height:420px;display:none;\"></iframe>"
            ],
            "text/plain": [
              "<wandb.sdk.wandb_run.Run at 0x7fcfb333f290>"
            ]
          },
          "metadata": {},
          "execution_count": 4
        }
      ]
    },
    {
      "cell_type": "code",
      "execution_count": 6,
      "metadata": {
        "id": "R3Md-3ac2b9D",
        "colab": {
          "base_uri": "https://localhost:8080/"
        },
        "outputId": "39d6315a-e209-4d72-dd27-479ab2b301d7"
      },
      "outputs": [
        {
          "output_type": "stream",
          "name": "stdout",
          "text": [
            "Downloading data from https://www.cs.toronto.edu/~kriz/cifar-10-python.tar.gz\n",
            "170500096/170498071 [==============================] - 2s 0us/step\n",
            "170508288/170498071 [==============================] - 2s 0us/step\n"
          ]
        }
      ],
      "source": [
        "cifar10= tf.keras.datasets.cifar10\n",
        "\n",
        "(X_train, Y_train), (X_test, Y_test) = cifar10.load_data()\n",
        "\n",
        "X_test = X_test / 255.0\n",
        "\n",
        "X_train,X_val, Y_train, Y_val = train_test_split(X_train, Y_train, test_size=0.2, random_state=24)\n",
        "\n",
        "X_train = X_train / 255.0"
      ]
    },
    {
      "cell_type": "markdown",
      "source": [
        "## MLP"
      ],
      "metadata": {
        "id": "DisH1F6b-30H"
      }
    },
    {
      "cell_type": "code",
      "source": [
        "model = tf.keras.Sequential([\n",
        "    tf.keras.layers.Flatten(input_shape=(32, 32,3)),\n",
        "    tf.keras.layers.Dense(128, activation='relu'),\n",
        "    tf.keras.layers.Dense(10)\n",
        "])\n",
        "\n",
        "model.compile(optimizer='adam',\n",
        "              loss=tf.keras.losses.SparseCategoricalCrossentropy(from_logits=True),\n",
        "              metrics=['accuracy'])\n",
        "\n",
        "model.fit(X_train, Y_train, epochs=15,validation_data=(X_val,Y_val),callbacks=[WandbCallback()])"
      ],
      "metadata": {
        "colab": {
          "base_uri": "https://localhost:8080/"
        },
        "id": "LgdA3FTJ-otl",
        "outputId": "8328c937-1230-4b61-a589-e7a2621829c9"
      },
      "execution_count": 7,
      "outputs": [
        {
          "output_type": "stream",
          "name": "stderr",
          "text": [
            "\u001b[34m\u001b[1mwandb\u001b[0m: \u001b[33mWARNING\u001b[0m The save_model argument by default saves the model in the HDF5 format that cannot save custom objects like subclassed models and custom layers. This behavior will be deprecated in a future release in favor of the SavedModel format. Meanwhile, the HDF5 model is saved as W&B files and the SavedModel as W&B Artifacts.\n"
          ]
        },
        {
          "output_type": "stream",
          "name": "stdout",
          "text": [
            "Epoch 1/15\n",
            "1250/1250 [==============================] - 7s 3ms/step - loss: 1.9279 - accuracy: 0.3141 - val_loss: 182.4086 - val_accuracy: 0.3364 - _timestamp: 1654669435.0000 - _runtime: 106.0000\n",
            "Epoch 2/15\n",
            "1250/1250 [==============================] - 5s 4ms/step - loss: 1.7816 - accuracy: 0.3638 - val_loss: 189.0929 - val_accuracy: 0.3610 - _timestamp: 1654669440.0000 - _runtime: 111.0000\n",
            "Epoch 3/15\n",
            "1250/1250 [==============================] - 3s 3ms/step - loss: 1.7218 - accuracy: 0.3872 - val_loss: 169.3339 - val_accuracy: 0.3842 - _timestamp: 1654669443.0000 - _runtime: 114.0000\n",
            "Epoch 4/15\n",
            "1250/1250 [==============================] - 4s 3ms/step - loss: 1.6869 - accuracy: 0.3982 - val_loss: 182.2294 - val_accuracy: 0.3932 - _timestamp: 1654669447.0000 - _runtime: 118.0000\n",
            "Epoch 5/15\n",
            "1250/1250 [==============================] - 4s 3ms/step - loss: 1.6592 - accuracy: 0.4104 - val_loss: 222.3869 - val_accuracy: 0.3658 - _timestamp: 1654669450.0000 - _runtime: 121.0000\n",
            "Epoch 6/15\n",
            "1250/1250 [==============================] - 3s 3ms/step - loss: 1.6447 - accuracy: 0.4175 - val_loss: 195.3185 - val_accuracy: 0.3705 - _timestamp: 1654669454.0000 - _runtime: 125.0000\n",
            "Epoch 7/15\n",
            "1250/1250 [==============================] - 3s 3ms/step - loss: 1.6303 - accuracy: 0.4176 - val_loss: 183.4663 - val_accuracy: 0.3914 - _timestamp: 1654669457.0000 - _runtime: 128.0000\n",
            "Epoch 8/15\n",
            "1250/1250 [==============================] - 4s 3ms/step - loss: 1.6192 - accuracy: 0.4226 - val_loss: 188.4179 - val_accuracy: 0.3908 - _timestamp: 1654669461.0000 - _runtime: 132.0000\n",
            "Epoch 9/15\n",
            "1250/1250 [==============================] - 4s 3ms/step - loss: 1.6083 - accuracy: 0.4236 - val_loss: 196.1312 - val_accuracy: 0.3974 - _timestamp: 1654669465.0000 - _runtime: 136.0000\n",
            "Epoch 10/15\n",
            "1250/1250 [==============================] - 3s 3ms/step - loss: 1.5913 - accuracy: 0.4344 - val_loss: 192.9140 - val_accuracy: 0.4055 - _timestamp: 1654669468.0000 - _runtime: 139.0000\n",
            "Epoch 11/15\n",
            "1250/1250 [==============================] - 3s 3ms/step - loss: 1.5875 - accuracy: 0.4358 - val_loss: 226.3736 - val_accuracy: 0.3789 - _timestamp: 1654669472.0000 - _runtime: 143.0000\n",
            "Epoch 12/15\n",
            "1250/1250 [==============================] - 4s 3ms/step - loss: 1.5812 - accuracy: 0.4338 - val_loss: 203.0542 - val_accuracy: 0.3762 - _timestamp: 1654669475.0000 - _runtime: 146.0000\n",
            "Epoch 13/15\n",
            "1250/1250 [==============================] - 3s 3ms/step - loss: 1.5698 - accuracy: 0.4414 - val_loss: 259.3502 - val_accuracy: 0.3554 - _timestamp: 1654669479.0000 - _runtime: 150.0000\n",
            "Epoch 14/15\n",
            "1250/1250 [==============================] - 3s 3ms/step - loss: 1.5633 - accuracy: 0.4417 - val_loss: 261.2333 - val_accuracy: 0.3696 - _timestamp: 1654669482.0000 - _runtime: 153.0000\n",
            "Epoch 15/15\n",
            "1250/1250 [==============================] - 3s 3ms/step - loss: 1.5569 - accuracy: 0.4450 - val_loss: 253.7712 - val_accuracy: 0.3501 - _timestamp: 1654669485.0000 - _runtime: 156.0000\n"
          ]
        },
        {
          "output_type": "execute_result",
          "data": {
            "text/plain": [
              "<keras.callbacks.History at 0x7fcfa053d750>"
            ]
          },
          "metadata": {},
          "execution_count": 7
        }
      ]
    },
    {
      "cell_type": "code",
      "source": [
        "model.evaluate(X_test, Y_test)"
      ],
      "metadata": {
        "colab": {
          "base_uri": "https://localhost:8080/"
        },
        "id": "ntnIt7FW-7Sc",
        "outputId": "f67746c9-4e54-4c80-a2cc-d49bcbe15ada"
      },
      "execution_count": 8,
      "outputs": [
        {
          "output_type": "stream",
          "name": "stdout",
          "text": [
            "313/313 [==============================] - 1s 3ms/step - loss: 1.5996 - accuracy: 0.4268\n"
          ]
        },
        {
          "output_type": "execute_result",
          "data": {
            "text/plain": [
              "[1.5995559692382812, 0.426800012588501]"
            ]
          },
          "metadata": {},
          "execution_count": 8
        }
      ]
    },
    {
      "cell_type": "code",
      "source": [
        "model.save('MLP_Cifar10.h5')"
      ],
      "metadata": {
        "id": "qLpXXkOb_EH_"
      },
      "execution_count": 9,
      "outputs": []
    },
    {
      "cell_type": "markdown",
      "source": [
        "## MLP + CNN"
      ],
      "metadata": {
        "id": "qq84dw-D_U2_"
      }
    },
    {
      "cell_type": "code",
      "source": [
        "model = tf.keras.models.Sequential([\n",
        "                                    \n",
        "        layers.Conv2D(32,(3,3),activation='relu',input_shape=(32, 32,3)),\n",
        "        layers.MaxPool2D((2, 2)),\n",
        "        layers.Conv2D(64,(3,3),activation='relu'),                            \n",
        "        layers.MaxPool2D((2, 2)),\n",
        "        layers.Conv2D(64,(3,3),activation='relu'),\n",
        "\n",
        "        layers.Flatten(),\n",
        "\n",
        "        tf.keras.layers.Dense(100, activation='relu'),\n",
        "        tf.keras.layers.Dense(10)\n",
        "])\n",
        "model.compile(optimizer='adam',\n",
        "              loss=tf.keras.losses.SparseCategoricalCrossentropy(from_logits=True),\n",
        "              metrics=['accuracy'])"
      ],
      "metadata": {
        "id": "GZBUzvs6_SKK"
      },
      "execution_count": 10,
      "outputs": []
    },
    {
      "cell_type": "code",
      "source": [
        "model.fit(X_train,Y_train,epochs=10,validation_data=(X_val,Y_val),callbacks=[WandbCallback()])"
      ],
      "metadata": {
        "colab": {
          "base_uri": "https://localhost:8080/"
        },
        "id": "ECNQM7p-_gkt",
        "outputId": "c51ca87b-de23-457f-c848-457a34ced067"
      },
      "execution_count": 11,
      "outputs": [
        {
          "output_type": "stream",
          "name": "stdout",
          "text": [
            "Epoch 1/10\n",
            "1250/1250 [==============================] - 14s 4ms/step - loss: 1.5704 - accuracy: 0.4239 - val_loss: 234.0733 - val_accuracy: 0.3600 - _timestamp: 1654669613.0000 - _runtime: 284.0000\n",
            "Epoch 2/10\n",
            "1250/1250 [==============================] - 6s 5ms/step - loss: 1.2178 - accuracy: 0.5688 - val_loss: 150.9868 - val_accuracy: 0.4729 - _timestamp: 1654669619.0000 - _runtime: 290.0000\n",
            "Epoch 3/10\n",
            "1250/1250 [==============================] - 5s 4ms/step - loss: 1.0746 - accuracy: 0.6224 - val_loss: 212.7194 - val_accuracy: 0.4330 - _timestamp: 1654669624.0000 - _runtime: 295.0000\n",
            "Epoch 4/10\n",
            "1250/1250 [==============================] - 6s 4ms/step - loss: 0.9681 - accuracy: 0.6601 - val_loss: 233.2188 - val_accuracy: 0.4375 - _timestamp: 1654669629.0000 - _runtime: 300.0000\n",
            "Epoch 5/10\n",
            "1250/1250 [==============================] - 5s 4ms/step - loss: 0.8929 - accuracy: 0.6858 - val_loss: 212.2615 - val_accuracy: 0.4284 - _timestamp: 1654669634.0000 - _runtime: 305.0000\n",
            "Epoch 6/10\n",
            "1250/1250 [==============================] - 5s 4ms/step - loss: 0.8295 - accuracy: 0.7071 - val_loss: 216.5764 - val_accuracy: 0.4370 - _timestamp: 1654669639.0000 - _runtime: 310.0000\n",
            "Epoch 7/10\n",
            "1250/1250 [==============================] - 6s 5ms/step - loss: 0.7781 - accuracy: 0.7271 - val_loss: 196.1734 - val_accuracy: 0.4599 - _timestamp: 1654669645.0000 - _runtime: 316.0000\n",
            "Epoch 8/10\n",
            "1250/1250 [==============================] - 6s 4ms/step - loss: 0.7324 - accuracy: 0.7447 - val_loss: 222.1775 - val_accuracy: 0.4674 - _timestamp: 1654669650.0000 - _runtime: 321.0000\n",
            "Epoch 9/10\n",
            "1250/1250 [==============================] - 5s 4ms/step - loss: 0.6855 - accuracy: 0.7621 - val_loss: 229.9440 - val_accuracy: 0.4612 - _timestamp: 1654669655.0000 - _runtime: 326.0000\n",
            "Epoch 10/10\n",
            "1250/1250 [==============================] - 6s 4ms/step - loss: 0.6404 - accuracy: 0.7737 - val_loss: 188.8564 - val_accuracy: 0.4888 - _timestamp: 1654669661.0000 - _runtime: 332.0000\n"
          ]
        },
        {
          "output_type": "execute_result",
          "data": {
            "text/plain": [
              "<keras.callbacks.History at 0x7fcfa017a1d0>"
            ]
          },
          "metadata": {},
          "execution_count": 11
        }
      ]
    },
    {
      "cell_type": "code",
      "source": [
        "model.evaluate(X_test, Y_test)"
      ],
      "metadata": {
        "colab": {
          "base_uri": "https://localhost:8080/"
        },
        "id": "-POqYJTL_lvS",
        "outputId": "cab1c787-3c22-4150-f47c-967e3df0de0e"
      },
      "execution_count": 12,
      "outputs": [
        {
          "output_type": "stream",
          "name": "stdout",
          "text": [
            "313/313 [==============================] - 1s 3ms/step - loss: 0.9205 - accuracy: 0.6988\n"
          ]
        },
        {
          "output_type": "execute_result",
          "data": {
            "text/plain": [
              "[0.9204718470573425, 0.6988000273704529]"
            ]
          },
          "metadata": {},
          "execution_count": 12
        }
      ]
    },
    {
      "cell_type": "code",
      "source": [
        "model.save('MLP_CNN_Cifar10.h5')"
      ],
      "metadata": {
        "id": "SpYLVDT8_s-T"
      },
      "execution_count": 13,
      "outputs": []
    },
    {
      "cell_type": "code",
      "source": [
        ""
      ],
      "metadata": {
        "id": "QmZRSpgcArqk"
      },
      "execution_count": null,
      "outputs": []
    }
  ],
  "metadata": {
    "accelerator": "GPU",
    "colab": {
      "name": "Cifar10.ipynb",
      "provenance": []
    },
    "kernelspec": {
      "display_name": "Python 3",
      "name": "python3"
    },
    "language_info": {
      "name": "python"
    }
  },
  "nbformat": 4,
  "nbformat_minor": 0
}