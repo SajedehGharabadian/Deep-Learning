{
  "cells": [
    {
      "cell_type": "code",
      "execution_count": null,
      "metadata": {
        "id": "3JARnUasZDQg"
      },
      "outputs": [],
      "source": [
        "!pip install wandb"
      ]
    },
    {
      "cell_type": "code",
      "execution_count": 5,
      "metadata": {
        "id": "aK-FOpuyYq9s"
      },
      "outputs": [],
      "source": [
        "import tensorflow as tf\n",
        "from tensorflow.keras import layers\n",
        "import numpy as np\n",
        "from sklearn.model_selection import train_test_split\n",
        "import wandb\n",
        "from wandb.keras import WandbCallback"
      ]
    },
    {
      "cell_type": "code",
      "source": [
        "wandb.login()"
      ],
      "metadata": {
        "colab": {
          "base_uri": "https://localhost:8080/",
          "height": 104
        },
        "id": "rFjdp5akxEsO",
        "outputId": "1f339f58-312d-42f7-9b3f-6183f63cb255"
      },
      "execution_count": 6,
      "outputs": [
        {
          "output_type": "display_data",
          "data": {
            "text/plain": [
              "<IPython.core.display.Javascript object>"
            ],
            "application/javascript": [
              "\n",
              "        window._wandbApiKey = new Promise((resolve, reject) => {\n",
              "            function loadScript(url) {\n",
              "            return new Promise(function(resolve, reject) {\n",
              "                let newScript = document.createElement(\"script\");\n",
              "                newScript.onerror = reject;\n",
              "                newScript.onload = resolve;\n",
              "                document.body.appendChild(newScript);\n",
              "                newScript.src = url;\n",
              "            });\n",
              "            }\n",
              "            loadScript(\"https://cdn.jsdelivr.net/npm/postmate/build/postmate.min.js\").then(() => {\n",
              "            const iframe = document.createElement('iframe')\n",
              "            iframe.style.cssText = \"width:0;height:0;border:none\"\n",
              "            document.body.appendChild(iframe)\n",
              "            const handshake = new Postmate({\n",
              "                container: iframe,\n",
              "                url: 'https://wandb.ai/authorize'\n",
              "            });\n",
              "            const timeout = setTimeout(() => reject(\"Couldn't auto authenticate\"), 5000)\n",
              "            handshake.then(function(child) {\n",
              "                child.on('authorize', data => {\n",
              "                    clearTimeout(timeout)\n",
              "                    resolve(data)\n",
              "                });\n",
              "            });\n",
              "            })\n",
              "        });\n",
              "    "
            ]
          },
          "metadata": {}
        },
        {
          "output_type": "stream",
          "name": "stderr",
          "text": [
            "\u001b[34m\u001b[1mwandb\u001b[0m: You can find your API key in your browser here: https://wandb.ai/authorize\n"
          ]
        },
        {
          "name": "stdout",
          "output_type": "stream",
          "text": [
            "wandb: Paste an API key from your profile and hit enter, or press ctrl+c to quit: ··········\n"
          ]
        },
        {
          "output_type": "stream",
          "name": "stderr",
          "text": [
            "\u001b[34m\u001b[1mwandb\u001b[0m: Appending key for api.wandb.ai to your netrc file: /root/.netrc\n"
          ]
        },
        {
          "output_type": "execute_result",
          "data": {
            "text/plain": [
              "True"
            ]
          },
          "metadata": {},
          "execution_count": 6
        }
      ]
    },
    {
      "cell_type": "code",
      "source": [
        "wandb.init(project=\"Mnist\", entity=\"gharabadiyan\")"
      ],
      "metadata": {
        "colab": {
          "base_uri": "https://localhost:8080/",
          "height": 108
        },
        "id": "9mIC9gFbxu4e",
        "outputId": "b2e7bca5-9e40-4bcc-9bc4-3d911ba06cce"
      },
      "execution_count": 7,
      "outputs": [
        {
          "output_type": "stream",
          "name": "stderr",
          "text": [
            "\u001b[34m\u001b[1mwandb\u001b[0m: Currently logged in as: \u001b[33mgharabadiyan\u001b[0m. Use \u001b[1m`wandb login --relogin`\u001b[0m to force relogin\n"
          ]
        },
        {
          "output_type": "display_data",
          "data": {
            "text/plain": [
              "<IPython.core.display.HTML object>"
            ],
            "text/html": [
              "Tracking run with wandb version 0.12.17"
            ]
          },
          "metadata": {}
        },
        {
          "output_type": "display_data",
          "data": {
            "text/plain": [
              "<IPython.core.display.HTML object>"
            ],
            "text/html": [
              "Run data is saved locally in <code>/content/wandb/run-20220608_052712-22q9fnjv</code>"
            ]
          },
          "metadata": {}
        },
        {
          "output_type": "display_data",
          "data": {
            "text/plain": [
              "<IPython.core.display.HTML object>"
            ],
            "text/html": [
              "Syncing run <strong><a href=\"https://wandb.ai/gharabadiyan/Mnist/runs/22q9fnjv\" target=\"_blank\">whole-river-1</a></strong> to <a href=\"https://wandb.ai/gharabadiyan/Mnist\" target=\"_blank\">Weights & Biases</a> (<a href=\"https://wandb.me/run\" target=\"_blank\">docs</a>)<br/>"
            ]
          },
          "metadata": {}
        },
        {
          "output_type": "execute_result",
          "data": {
            "text/html": [
              "<button onClick=\"this.nextSibling.style.display='block';this.style.display='none';\">Display W&B run</button><iframe src=\"https://wandb.ai/gharabadiyan/Mnist/runs/22q9fnjv?jupyter=true\" style=\"border:none;width:100%;height:420px;display:none;\"></iframe>"
            ],
            "text/plain": [
              "<wandb.sdk.wandb_run.Run at 0x7fbb2a9b5850>"
            ]
          },
          "metadata": {},
          "execution_count": 7
        }
      ]
    },
    {
      "cell_type": "code",
      "source": [
        "config = wandb.config\n",
        "config.learning_rate = 0.001"
      ],
      "metadata": {
        "id": "myiKDkTLyD8Q"
      },
      "execution_count": 8,
      "outputs": []
    },
    {
      "cell_type": "markdown",
      "metadata": {
        "id": "rbrf9zo_V08y"
      },
      "source": [
        "## Mnist Dataset"
      ]
    },
    {
      "cell_type": "code",
      "execution_count": 9,
      "metadata": {
        "id": "kjBaVg3jV9sl",
        "colab": {
          "base_uri": "https://localhost:8080/"
        },
        "outputId": "f0cd41d9-7154-41d2-ae05-d9461d0f8b9f"
      },
      "outputs": [
        {
          "output_type": "stream",
          "name": "stdout",
          "text": [
            "Downloading data from https://storage.googleapis.com/tensorflow/tf-keras-datasets/mnist.npz\n",
            "11493376/11490434 [==============================] - 0s 0us/step\n",
            "11501568/11490434 [==============================] - 0s 0us/step\n"
          ]
        }
      ],
      "source": [
        "mnist = tf.keras.datasets.mnist\n",
        "\n",
        "(X_train, Y_train),(X_test, Y_test) = mnist.load_data()\n",
        "\n",
        "X_train, X_test = X_train / 255.0, X_test / 255.0\n"
      ]
    },
    {
      "cell_type": "markdown",
      "metadata": {
        "id": "PjDT-YLYaiwx"
      },
      "source": [
        "## MLP"
      ]
    },
    {
      "cell_type": "code",
      "execution_count": 10,
      "metadata": {
        "colab": {
          "base_uri": "https://localhost:8080/"
        },
        "id": "ecPXOE4oZGHX",
        "outputId": "dbb7ec14-7898-4c4b-8da9-53db83cfe90a"
      },
      "outputs": [
        {
          "output_type": "stream",
          "name": "stderr",
          "text": [
            "\u001b[34m\u001b[1mwandb\u001b[0m: \u001b[33mWARNING\u001b[0m The save_model argument by default saves the model in the HDF5 format that cannot save custom objects like subclassed models and custom layers. This behavior will be deprecated in a future release in favor of the SavedModel format. Meanwhile, the HDF5 model is saved as W&B files and the SavedModel as W&B Artifacts.\n"
          ]
        },
        {
          "output_type": "stream",
          "name": "stdout",
          "text": [
            "Epoch 1/5\n",
            "1875/1875 [==============================] - 6s 3ms/step - loss: 0.2955 - accuracy: 0.9150 - _timestamp: 1654666143.0000 - _runtime: 111.0000\n",
            "Epoch 2/5\n",
            "1875/1875 [==============================] - 5s 3ms/step - loss: 0.1435 - accuracy: 0.9583 - _timestamp: 1654666148.0000 - _runtime: 116.0000\n",
            "Epoch 3/5\n",
            "1875/1875 [==============================] - 6s 3ms/step - loss: 0.1087 - accuracy: 0.9672 - _timestamp: 1654666154.0000 - _runtime: 122.0000\n",
            "Epoch 4/5\n",
            "1875/1875 [==============================] - 5s 3ms/step - loss: 0.0885 - accuracy: 0.9733 - _timestamp: 1654666159.0000 - _runtime: 127.0000\n",
            "Epoch 5/5\n",
            "1875/1875 [==============================] - 5s 3ms/step - loss: 0.0764 - accuracy: 0.9764 - _timestamp: 1654666164.0000 - _runtime: 132.0000\n"
          ]
        },
        {
          "output_type": "execute_result",
          "data": {
            "text/plain": [
              "<keras.callbacks.History at 0x7fbb23371710>"
            ]
          },
          "metadata": {},
          "execution_count": 10
        }
      ],
      "source": [
        "\n",
        "model = tf.keras.models.Sequential([\n",
        "  tf.keras.layers.Flatten(input_shape=(28, 28)),\n",
        "  tf.keras.layers.Dense(128, activation='relu'),\n",
        "  tf.keras.layers.Dropout(0.2),\n",
        "  tf.keras.layers.Dense(10, activation='softmax')\n",
        "])\n",
        "\n",
        "model.compile(optimizer='adam',\n",
        "              loss='sparse_categorical_crossentropy',\n",
        "              metrics=['accuracy'])\n",
        "\n",
        "model.fit(X_train, Y_train, epochs=5,callbacks=[WandbCallback()])\n"
      ]
    },
    {
      "cell_type": "code",
      "execution_count": 11,
      "metadata": {
        "colab": {
          "base_uri": "https://localhost:8080/"
        },
        "id": "Ugp_Z5SPXX8k",
        "outputId": "4a9ec968-bd14-4e79-b08d-b9c93a29dfc1"
      },
      "outputs": [
        {
          "output_type": "stream",
          "name": "stdout",
          "text": [
            "313/313 [==============================] - 1s 2ms/step - loss: 0.0736 - accuracy: 0.9773\n"
          ]
        },
        {
          "output_type": "execute_result",
          "data": {
            "text/plain": [
              "[0.07357104867696762, 0.9772999882698059]"
            ]
          },
          "metadata": {},
          "execution_count": 11
        }
      ],
      "source": [
        "model.evaluate(X_test, Y_test)"
      ]
    },
    {
      "cell_type": "code",
      "execution_count": 12,
      "metadata": {
        "id": "nKqOWIiGZklk"
      },
      "outputs": [],
      "source": [
        "model.save('MLP_Mnist.h5')"
      ]
    },
    {
      "cell_type": "markdown",
      "metadata": {
        "id": "qBytbxdsa0-2"
      },
      "source": [
        "## MLP+CNN"
      ]
    },
    {
      "cell_type": "code",
      "execution_count": 13,
      "metadata": {
        "id": "g2j5QXljamUC"
      },
      "outputs": [],
      "source": [
        "X_train, X_val, Y_train, Y_val = train_test_split(X_train, Y_train, test_size=0.2, random_state= 8)\n",
        "\n",
        "model = tf.keras.models.Sequential([\n",
        "                                    \n",
        "        #استخراج ویژگی                           \n",
        "        layers.Conv2D(32,(3,3),activation='relu',input_shape=(28, 28,1)),\n",
        "        layers.MaxPool2D(),\n",
        "        layers.Conv2D(64,(3,3),activation='relu'),                            \n",
        "        layers.MaxPool2D(),\n",
        "        layers.Conv2D(64,(5,5),activation='relu'),\n",
        "\n",
        "        layers.Flatten(),\n",
        "\n",
        "        #همون شبکه قدیمی\n",
        "        layers.Dense(48,activation='relu'),\n",
        "        layers.Dense(10,activation='softmax')\n",
        "])\n",
        "model.compile(optimizer=tf.keras.optimizers.SGD(learning_rate=config.learning_rate),\n",
        "              loss=tf.keras.losses.sparse_categorical_crossentropy,\n",
        "              metrics=['accuracy'])"
      ]
    },
    {
      "cell_type": "code",
      "execution_count": 14,
      "metadata": {
        "colab": {
          "base_uri": "https://localhost:8080/"
        },
        "id": "1Ohaayc-bgmQ",
        "outputId": "a06c6a8b-972e-4380-80a2-ba7611fb6f19"
      },
      "outputs": [
        {
          "output_type": "stream",
          "name": "stdout",
          "text": [
            "Epoch 1/28\n",
            "1500/1500 [==============================] - 49s 33ms/step - loss: 2.2245 - accuracy: 0.2633 - val_loss: 2.0758 - val_accuracy: 0.4602 - _timestamp: 1654666276.0000 - _runtime: 244.0000\n",
            "Epoch 2/28\n",
            "1500/1500 [==============================] - 49s 33ms/step - loss: 1.4677 - accuracy: 0.6781 - val_loss: 0.7864 - val_accuracy: 0.8066 - _timestamp: 1654666325.0000 - _runtime: 293.0000\n",
            "Epoch 3/28\n",
            "1500/1500 [==============================] - 48s 32ms/step - loss: 0.5673 - accuracy: 0.8476 - val_loss: 0.4561 - val_accuracy: 0.8689 - _timestamp: 1654666373.0000 - _runtime: 341.0000\n",
            "Epoch 4/28\n",
            "1500/1500 [==============================] - 50s 33ms/step - loss: 0.3884 - accuracy: 0.8870 - val_loss: 0.3517 - val_accuracy: 0.8992 - _timestamp: 1654666423.0000 - _runtime: 391.0000\n",
            "Epoch 5/28\n",
            "1500/1500 [==============================] - 50s 33ms/step - loss: 0.3207 - accuracy: 0.9047 - val_loss: 0.3054 - val_accuracy: 0.9120 - _timestamp: 1654666473.0000 - _runtime: 441.0000\n",
            "Epoch 6/28\n",
            "1500/1500 [==============================] - 50s 33ms/step - loss: 0.2817 - accuracy: 0.9148 - val_loss: 0.2833 - val_accuracy: 0.9169 - _timestamp: 1654666523.0000 - _runtime: 491.0000\n",
            "Epoch 7/28\n",
            "1500/1500 [==============================] - 50s 34ms/step - loss: 0.2538 - accuracy: 0.9247 - val_loss: 0.2520 - val_accuracy: 0.9260 - _timestamp: 1654666573.0000 - _runtime: 541.0000\n",
            "Epoch 8/28\n",
            "1500/1500 [==============================] - 51s 34ms/step - loss: 0.2311 - accuracy: 0.9297 - val_loss: 0.2321 - val_accuracy: 0.9323 - _timestamp: 1654666624.0000 - _runtime: 592.0000\n",
            "Epoch 9/28\n",
            "1500/1500 [==============================] - 51s 34ms/step - loss: 0.2117 - accuracy: 0.9361 - val_loss: 0.2167 - val_accuracy: 0.9357 - _timestamp: 1654666675.0000 - _runtime: 643.0000\n",
            "Epoch 10/28\n",
            "1500/1500 [==============================] - 51s 34ms/step - loss: 0.1959 - accuracy: 0.9410 - val_loss: 0.2022 - val_accuracy: 0.9415 - _timestamp: 1654666726.0000 - _runtime: 694.0000\n",
            "Epoch 11/28\n",
            "1500/1500 [==============================] - 50s 34ms/step - loss: 0.1827 - accuracy: 0.9451 - val_loss: 0.1954 - val_accuracy: 0.9425 - _timestamp: 1654666776.0000 - _runtime: 744.0000\n",
            "Epoch 12/28\n",
            "1500/1500 [==============================] - 52s 35ms/step - loss: 0.1702 - accuracy: 0.9492 - val_loss: 0.1796 - val_accuracy: 0.9476 - _timestamp: 1654666828.0000 - _runtime: 796.0000\n",
            "Epoch 13/28\n",
            "1500/1500 [==============================] - 51s 34ms/step - loss: 0.1596 - accuracy: 0.9519 - val_loss: 0.1694 - val_accuracy: 0.9502 - _timestamp: 1654666879.0000 - _runtime: 847.0000\n",
            "Epoch 14/28\n",
            "1500/1500 [==============================] - 51s 34ms/step - loss: 0.1504 - accuracy: 0.9554 - val_loss: 0.1616 - val_accuracy: 0.9535 - _timestamp: 1654666930.0000 - _runtime: 898.0000\n",
            "Epoch 15/28\n",
            "1500/1500 [==============================] - 51s 34ms/step - loss: 0.1417 - accuracy: 0.9577 - val_loss: 0.1561 - val_accuracy: 0.9544 - _timestamp: 1654666981.0000 - _runtime: 949.0000\n",
            "Epoch 16/28\n",
            "1500/1500 [==============================] - 51s 34ms/step - loss: 0.1346 - accuracy: 0.9608 - val_loss: 0.1487 - val_accuracy: 0.9555 - _timestamp: 1654667032.0000 - _runtime: 1000.0000\n",
            "Epoch 17/28\n",
            "1500/1500 [==============================] - 52s 35ms/step - loss: 0.1276 - accuracy: 0.9625 - val_loss: 0.1385 - val_accuracy: 0.9591 - _timestamp: 1654667084.0000 - _runtime: 1052.0000\n",
            "Epoch 18/28\n",
            "1500/1500 [==============================] - 51s 34ms/step - loss: 0.1219 - accuracy: 0.9639 - val_loss: 0.1354 - val_accuracy: 0.9599 - _timestamp: 1654667135.0000 - _runtime: 1103.0000\n",
            "Epoch 19/28\n",
            "1500/1500 [==============================] - 51s 34ms/step - loss: 0.1167 - accuracy: 0.9653 - val_loss: 0.1307 - val_accuracy: 0.9608 - _timestamp: 1654667186.0000 - _runtime: 1154.0000\n",
            "Epoch 20/28\n",
            "1500/1500 [==============================] - 51s 34ms/step - loss: 0.1114 - accuracy: 0.9670 - val_loss: 0.1291 - val_accuracy: 0.9636 - _timestamp: 1654667236.0000 - _runtime: 1204.0000\n",
            "Epoch 21/28\n",
            "1500/1500 [==============================] - 50s 34ms/step - loss: 0.1070 - accuracy: 0.9677 - val_loss: 0.1320 - val_accuracy: 0.9604 - _timestamp: 1654667287.0000 - _runtime: 1255.0000\n",
            "Epoch 22/28\n",
            "1500/1500 [==============================] - 50s 33ms/step - loss: 0.1029 - accuracy: 0.9693 - val_loss: 0.1175 - val_accuracy: 0.9643 - _timestamp: 1654667337.0000 - _runtime: 1305.0000\n",
            "Epoch 23/28\n",
            "1500/1500 [==============================] - 50s 33ms/step - loss: 0.0995 - accuracy: 0.9704 - val_loss: 0.1138 - val_accuracy: 0.9661 - _timestamp: 1654667387.0000 - _runtime: 1355.0000\n",
            "Epoch 24/28\n",
            "1500/1500 [==============================] - 50s 33ms/step - loss: 0.0961 - accuracy: 0.9714 - val_loss: 0.1145 - val_accuracy: 0.9658 - _timestamp: 1654667437.0000 - _runtime: 1405.0000\n",
            "Epoch 25/28\n",
            "1500/1500 [==============================] - 50s 34ms/step - loss: 0.0926 - accuracy: 0.9724 - val_loss: 0.1097 - val_accuracy: 0.9673 - _timestamp: 1654667487.0000 - _runtime: 1455.0000\n",
            "Epoch 26/28\n",
            "1500/1500 [==============================] - 50s 33ms/step - loss: 0.0899 - accuracy: 0.9729 - val_loss: 0.1061 - val_accuracy: 0.9691 - _timestamp: 1654667538.0000 - _runtime: 1506.0000\n",
            "Epoch 27/28\n",
            "1500/1500 [==============================] - 50s 33ms/step - loss: 0.0874 - accuracy: 0.9737 - val_loss: 0.1060 - val_accuracy: 0.9685 - _timestamp: 1654667588.0000 - _runtime: 1556.0000\n",
            "Epoch 28/28\n",
            "1500/1500 [==============================] - 51s 34ms/step - loss: 0.0852 - accuracy: 0.9742 - val_loss: 0.1019 - val_accuracy: 0.9697 - _timestamp: 1654667638.0000 - _runtime: 1606.0000\n"
          ]
        },
        {
          "output_type": "execute_result",
          "data": {
            "text/plain": [
              "<keras.callbacks.History at 0x7fbb23254250>"
            ]
          },
          "metadata": {},
          "execution_count": 14
        }
      ],
      "source": [
        "model.fit(X_train,Y_train,epochs=28,validation_data=(X_val,Y_val),callbacks=[WandbCallback()])"
      ]
    },
    {
      "cell_type": "code",
      "execution_count": 15,
      "metadata": {
        "colab": {
          "base_uri": "https://localhost:8080/"
        },
        "id": "i8DxMteXc-nc",
        "outputId": "d861edf1-e5e4-46ee-9018-171b2926f543"
      },
      "outputs": [
        {
          "output_type": "stream",
          "name": "stdout",
          "text": [
            "313/313 [==============================] - 4s 11ms/step - loss: 0.0805 - accuracy: 0.9759\n"
          ]
        },
        {
          "output_type": "execute_result",
          "data": {
            "text/plain": [
              "[0.08054729551076889, 0.9758999943733215]"
            ]
          },
          "metadata": {},
          "execution_count": 15
        }
      ],
      "source": [
        "model.evaluate(X_test,Y_test)"
      ]
    },
    {
      "cell_type": "code",
      "execution_count": 16,
      "metadata": {
        "id": "WeGLalB8Z5lG"
      },
      "outputs": [],
      "source": [
        "model.save('MLP_CNN_Mnist.h5')"
      ]
    },
    {
      "cell_type": "code",
      "execution_count": null,
      "metadata": {
        "id": "Pwa2JDoYavbk"
      },
      "outputs": [],
      "source": [
        ""
      ]
    }
  ],
  "metadata": {
    "accelerator": "GPU",
    "colab": {
      "name": "Mnist.ipynb",
      "provenance": []
    },
    "kernelspec": {
      "display_name": "Python 3",
      "name": "python3"
    },
    "language_info": {
      "name": "python"
    }
  },
  "nbformat": 4,
  "nbformat_minor": 0
}