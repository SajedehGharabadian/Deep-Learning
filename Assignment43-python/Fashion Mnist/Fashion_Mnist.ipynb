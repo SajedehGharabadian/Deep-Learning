{
  "nbformat": 4,
  "nbformat_minor": 0,
  "metadata": {
    "colab": {
      "name": "Fashion_Mnist.ipynb",
      "provenance": []
    },
    "kernelspec": {
      "name": "python3",
      "display_name": "Python 3"
    },
    "language_info": {
      "name": "python"
    },
    "accelerator": "GPU"
  },
  "cells": [
    {
      "cell_type": "code",
      "source": [
        "!pip install wandb"
      ],
      "metadata": {
        "id": "UygF1v6g6Lbp"
      },
      "execution_count": null,
      "outputs": []
    },
    {
      "cell_type": "code",
      "execution_count": 2,
      "metadata": {
        "id": "h3uajiLue1_a"
      },
      "outputs": [],
      "source": [
        "import tensorflow as tf\n",
        "from tensorflow.keras import layers\n",
        "import numpy as np\n",
        "from sklearn.model_selection import train_test_split\n",
        "import wandb\n",
        "from wandb.keras import WandbCallback"
      ]
    },
    {
      "cell_type": "code",
      "source": [
        "wandb.login()"
      ],
      "metadata": {
        "colab": {
          "base_uri": "https://localhost:8080/",
          "height": 104
        },
        "id": "DTVdj6QB6TqP",
        "outputId": "57645e1c-13d3-49c2-ff82-023b9ae6011a"
      },
      "execution_count": 3,
      "outputs": [
        {
          "output_type": "display_data",
          "data": {
            "text/plain": [
              "<IPython.core.display.Javascript object>"
            ],
            "application/javascript": [
              "\n",
              "        window._wandbApiKey = new Promise((resolve, reject) => {\n",
              "            function loadScript(url) {\n",
              "            return new Promise(function(resolve, reject) {\n",
              "                let newScript = document.createElement(\"script\");\n",
              "                newScript.onerror = reject;\n",
              "                newScript.onload = resolve;\n",
              "                document.body.appendChild(newScript);\n",
              "                newScript.src = url;\n",
              "            });\n",
              "            }\n",
              "            loadScript(\"https://cdn.jsdelivr.net/npm/postmate/build/postmate.min.js\").then(() => {\n",
              "            const iframe = document.createElement('iframe')\n",
              "            iframe.style.cssText = \"width:0;height:0;border:none\"\n",
              "            document.body.appendChild(iframe)\n",
              "            const handshake = new Postmate({\n",
              "                container: iframe,\n",
              "                url: 'https://wandb.ai/authorize'\n",
              "            });\n",
              "            const timeout = setTimeout(() => reject(\"Couldn't auto authenticate\"), 5000)\n",
              "            handshake.then(function(child) {\n",
              "                child.on('authorize', data => {\n",
              "                    clearTimeout(timeout)\n",
              "                    resolve(data)\n",
              "                });\n",
              "            });\n",
              "            })\n",
              "        });\n",
              "    "
            ]
          },
          "metadata": {}
        },
        {
          "output_type": "stream",
          "name": "stderr",
          "text": [
            "\u001b[34m\u001b[1mwandb\u001b[0m: You can find your API key in your browser here: https://wandb.ai/authorize\n"
          ]
        },
        {
          "name": "stdout",
          "output_type": "stream",
          "text": [
            "wandb: Paste an API key from your profile and hit enter, or press ctrl+c to quit: ··········\n"
          ]
        },
        {
          "output_type": "stream",
          "name": "stderr",
          "text": [
            "\u001b[34m\u001b[1mwandb\u001b[0m: Appending key for api.wandb.ai to your netrc file: /root/.netrc\n"
          ]
        },
        {
          "output_type": "execute_result",
          "data": {
            "text/plain": [
              "True"
            ]
          },
          "metadata": {},
          "execution_count": 3
        }
      ]
    },
    {
      "cell_type": "code",
      "source": [
        "wandb.init(project=\"Fashion_Mnist\", entity=\"gharabadiyan\")"
      ],
      "metadata": {
        "colab": {
          "base_uri": "https://localhost:8080/",
          "height": 108
        },
        "id": "iy-boIPT6UdA",
        "outputId": "68eb27cc-2e36-4822-f25c-74152d15432d"
      },
      "execution_count": 4,
      "outputs": [
        {
          "output_type": "stream",
          "name": "stderr",
          "text": [
            "\u001b[34m\u001b[1mwandb\u001b[0m: Currently logged in as: \u001b[33mgharabadiyan\u001b[0m. Use \u001b[1m`wandb login --relogin`\u001b[0m to force relogin\n"
          ]
        },
        {
          "output_type": "display_data",
          "data": {
            "text/plain": [
              "<IPython.core.display.HTML object>"
            ],
            "text/html": [
              "Tracking run with wandb version 0.12.17"
            ]
          },
          "metadata": {}
        },
        {
          "output_type": "display_data",
          "data": {
            "text/plain": [
              "<IPython.core.display.HTML object>"
            ],
            "text/html": [
              "Run data is saved locally in <code>/content/wandb/run-20220608_060415-3d2zc7kb</code>"
            ]
          },
          "metadata": {}
        },
        {
          "output_type": "display_data",
          "data": {
            "text/plain": [
              "<IPython.core.display.HTML object>"
            ],
            "text/html": [
              "Syncing run <strong><a href=\"https://wandb.ai/gharabadiyan/Fashion_Mnist/runs/3d2zc7kb\" target=\"_blank\">wise-glade-1</a></strong> to <a href=\"https://wandb.ai/gharabadiyan/Fashion_Mnist\" target=\"_blank\">Weights & Biases</a> (<a href=\"https://wandb.me/run\" target=\"_blank\">docs</a>)<br/>"
            ]
          },
          "metadata": {}
        },
        {
          "output_type": "execute_result",
          "data": {
            "text/html": [
              "<button onClick=\"this.nextSibling.style.display='block';this.style.display='none';\">Display W&B run</button><iframe src=\"https://wandb.ai/gharabadiyan/Fashion_Mnist/runs/3d2zc7kb?jupyter=true\" style=\"border:none;width:100%;height:420px;display:none;\"></iframe>"
            ],
            "text/plain": [
              "<wandb.sdk.wandb_run.Run at 0x7f02e49203d0>"
            ]
          },
          "metadata": {},
          "execution_count": 4
        }
      ]
    },
    {
      "cell_type": "code",
      "source": [
        "fashion_mnist = tf.keras.datasets.fashion_mnist\n",
        "\n",
        "(X_train, Y_train), (X_test, Y_test) = fashion_mnist.load_data()\n",
        "\n",
        "X_test = X_test / 255.0\n",
        "\n",
        "X_train,X_val, Y_train, Y_val = train_test_split(X_train, Y_train, test_size=0.2, random_state=24)\n",
        "\n",
        "X_train = X_train / 255.0\n",
        "\n"
      ],
      "metadata": {
        "id": "HkWKiYUte9BR",
        "colab": {
          "base_uri": "https://localhost:8080/"
        },
        "outputId": "769eb8a1-d62e-4d32-a7b9-5455e423e253"
      },
      "execution_count": 5,
      "outputs": [
        {
          "output_type": "stream",
          "name": "stdout",
          "text": [
            "Downloading data from https://storage.googleapis.com/tensorflow/tf-keras-datasets/train-labels-idx1-ubyte.gz\n",
            "32768/29515 [=================================] - 0s 0us/step\n",
            "40960/29515 [=========================================] - 0s 0us/step\n",
            "Downloading data from https://storage.googleapis.com/tensorflow/tf-keras-datasets/train-images-idx3-ubyte.gz\n",
            "26427392/26421880 [==============================] - 0s 0us/step\n",
            "26435584/26421880 [==============================] - 0s 0us/step\n",
            "Downloading data from https://storage.googleapis.com/tensorflow/tf-keras-datasets/t10k-labels-idx1-ubyte.gz\n",
            "16384/5148 [===============================================================================================] - 0s 0us/step\n",
            "Downloading data from https://storage.googleapis.com/tensorflow/tf-keras-datasets/t10k-images-idx3-ubyte.gz\n",
            "4423680/4422102 [==============================] - 0s 0us/step\n",
            "4431872/4422102 [==============================] - 0s 0us/step\n"
          ]
        }
      ]
    },
    {
      "cell_type": "markdown",
      "source": [
        "## MLP"
      ],
      "metadata": {
        "id": "sKs50iRmfHwb"
      }
    },
    {
      "cell_type": "code",
      "source": [
        "model = tf.keras.Sequential([\n",
        "    tf.keras.layers.Flatten(input_shape=(28, 28)),\n",
        "    tf.keras.layers.Dense(128, activation='relu'),\n",
        "    tf.keras.layers.Dense(10)\n",
        "])\n",
        "\n",
        "model.compile(optimizer='adam',\n",
        "              loss=tf.keras.losses.SparseCategoricalCrossentropy(from_logits=True),\n",
        "              metrics=['accuracy'])\n",
        "\n",
        "model.fit(X_train, Y_train, epochs=12,validation_data=(X_val,Y_val),callbacks=[WandbCallback()])"
      ],
      "metadata": {
        "colab": {
          "base_uri": "https://localhost:8080/"
        },
        "id": "Rx-CGk1SfJHL",
        "outputId": "cc2d4ddf-cf4f-4764-d5f4-28e9581b0cfd"
      },
      "execution_count": 6,
      "outputs": [
        {
          "output_type": "stream",
          "name": "stderr",
          "text": [
            "\u001b[34m\u001b[1mwandb\u001b[0m: \u001b[33mWARNING\u001b[0m The save_model argument by default saves the model in the HDF5 format that cannot save custom objects like subclassed models and custom layers. This behavior will be deprecated in a future release in favor of the SavedModel format. Meanwhile, the HDF5 model is saved as W&B files and the SavedModel as W&B Artifacts.\n"
          ]
        },
        {
          "output_type": "stream",
          "name": "stdout",
          "text": [
            "Epoch 1/12\n",
            "   1/1500 [..............................] - ETA: 1:05:57 - loss: 2.2541 - accuracy: 0.1875WARNING:tensorflow:Callback method `on_train_batch_end` is slow compared to the batch time (batch time: 0.0019s vs `on_train_batch_end` time: 0.0021s). Check your callbacks.\n",
            "1500/1500 [==============================] - 7s 3ms/step - loss: 0.5162 - accuracy: 0.8190 - val_loss: 62.8551 - val_accuracy: 0.8370 - _timestamp: 1654668301.0000 - _runtime: 46.0000\n",
            "Epoch 2/12\n",
            "1500/1500 [==============================] - 4s 3ms/step - loss: 0.3907 - accuracy: 0.8584 - val_loss: 54.8722 - val_accuracy: 0.8578 - _timestamp: 1654668305.0000 - _runtime: 50.0000\n",
            "Epoch 3/12\n",
            "1500/1500 [==============================] - 4s 3ms/step - loss: 0.3485 - accuracy: 0.8735 - val_loss: 49.4740 - val_accuracy: 0.8605 - _timestamp: 1654668309.0000 - _runtime: 54.0000\n",
            "Epoch 4/12\n",
            "1500/1500 [==============================] - 4s 3ms/step - loss: 0.3214 - accuracy: 0.8812 - val_loss: 58.2844 - val_accuracy: 0.8522 - _timestamp: 1654668312.0000 - _runtime: 57.0000\n",
            "Epoch 5/12\n",
            "1500/1500 [==============================] - 4s 2ms/step - loss: 0.3038 - accuracy: 0.8887 - val_loss: 48.6955 - val_accuracy: 0.8624 - _timestamp: 1654668316.0000 - _runtime: 61.0000\n",
            "Epoch 6/12\n",
            "1500/1500 [==============================] - 4s 2ms/step - loss: 0.2885 - accuracy: 0.8939 - val_loss: 60.6714 - val_accuracy: 0.8467 - _timestamp: 1654668320.0000 - _runtime: 65.0000\n",
            "Epoch 7/12\n",
            "1500/1500 [==============================] - 4s 2ms/step - loss: 0.2748 - accuracy: 0.8981 - val_loss: 54.1866 - val_accuracy: 0.8662 - _timestamp: 1654668323.0000 - _runtime: 68.0000\n",
            "Epoch 8/12\n",
            "1500/1500 [==============================] - 4s 2ms/step - loss: 0.2637 - accuracy: 0.9001 - val_loss: 57.2574 - val_accuracy: 0.8670 - _timestamp: 1654668327.0000 - _runtime: 72.0000\n",
            "Epoch 9/12\n",
            "1500/1500 [==============================] - 4s 2ms/step - loss: 0.2523 - accuracy: 0.9059 - val_loss: 59.4477 - val_accuracy: 0.8687 - _timestamp: 1654668331.0000 - _runtime: 76.0000\n",
            "Epoch 10/12\n",
            "1500/1500 [==============================] - 4s 2ms/step - loss: 0.2394 - accuracy: 0.9101 - val_loss: 57.2421 - val_accuracy: 0.8682 - _timestamp: 1654668334.0000 - _runtime: 79.0000\n",
            "Epoch 11/12\n",
            "1500/1500 [==============================] - 4s 2ms/step - loss: 0.2334 - accuracy: 0.9127 - val_loss: 50.3216 - val_accuracy: 0.8792 - _timestamp: 1654668338.0000 - _runtime: 83.0000\n",
            "Epoch 12/12\n",
            "1500/1500 [==============================] - 4s 3ms/step - loss: 0.2250 - accuracy: 0.9158 - val_loss: 73.5130 - val_accuracy: 0.8520 - _timestamp: 1654668342.0000 - _runtime: 87.0000\n"
          ]
        },
        {
          "output_type": "execute_result",
          "data": {
            "text/plain": [
              "<keras.callbacks.History at 0x7f02d0038450>"
            ]
          },
          "metadata": {},
          "execution_count": 6
        }
      ]
    },
    {
      "cell_type": "code",
      "source": [
        "model.evaluate(X_test,  Y_test)"
      ],
      "metadata": {
        "colab": {
          "base_uri": "https://localhost:8080/"
        },
        "id": "BtBUg4sJfJjF",
        "outputId": "8b624306-aae9-4b48-c2d6-9ac65d3badbf"
      },
      "execution_count": 7,
      "outputs": [
        {
          "output_type": "stream",
          "name": "stdout",
          "text": [
            "313/313 [==============================] - 1s 3ms/step - loss: 0.3525 - accuracy: 0.8798\n"
          ]
        },
        {
          "output_type": "execute_result",
          "data": {
            "text/plain": [
              "[0.3524978458881378, 0.879800021648407]"
            ]
          },
          "metadata": {},
          "execution_count": 7
        }
      ]
    },
    {
      "cell_type": "code",
      "source": [
        "model.save('MLP_fashionMnist.h5')"
      ],
      "metadata": {
        "id": "slnCCAAORhSD"
      },
      "execution_count": 8,
      "outputs": []
    },
    {
      "cell_type": "markdown",
      "source": [
        "## MLP + CNN"
      ],
      "metadata": {
        "id": "rMNvc5p_fRH_"
      }
    },
    {
      "cell_type": "code",
      "source": [
        "model = tf.keras.models.Sequential([\n",
        "                                    \n",
        "        layers.Conv2D(32,(3,3),activation='relu',input_shape=(28, 28,1)),\n",
        "        layers.MaxPool2D(),\n",
        "        layers.Conv2D(64,(3,3),activation='relu'),                            \n",
        "        layers.MaxPool2D(),\n",
        "        layers.Conv2D(32,(5,5),activation='relu'),\n",
        "\n",
        "        layers.Flatten(),\n",
        "\n",
        "        \n",
        "        tf.keras.layers.Dense(48, activation='relu'),\n",
        "        tf.keras.layers.Dense(10)\n",
        "])\n",
        "model.compile(optimizer='adam',\n",
        "              loss=tf.keras.losses.SparseCategoricalCrossentropy(from_logits=True),\n",
        "              metrics=['accuracy'])"
      ],
      "metadata": {
        "id": "ZHQjsNvDffuP"
      },
      "execution_count": 10,
      "outputs": []
    },
    {
      "cell_type": "code",
      "source": [
        "model.fit(X_train,Y_train,epochs=10,validation_data=(X_val,Y_val))"
      ],
      "metadata": {
        "colab": {
          "base_uri": "https://localhost:8080/"
        },
        "id": "VDniE_5loMN8",
        "outputId": "1ef09738-7860-46b9-824c-41a6f54b9b6b"
      },
      "execution_count": 11,
      "outputs": [
        {
          "output_type": "stream",
          "name": "stdout",
          "text": [
            "Epoch 1/10\n",
            "1500/1500 [==============================] - 15s 4ms/step - loss: 0.5270 - accuracy: 0.8079 - val_loss: 58.4470 - val_accuracy: 0.8297\n",
            "Epoch 2/10\n",
            "1500/1500 [==============================] - 5s 4ms/step - loss: 0.3512 - accuracy: 0.8721 - val_loss: 48.5500 - val_accuracy: 0.8417\n",
            "Epoch 3/10\n",
            "1500/1500 [==============================] - 5s 3ms/step - loss: 0.3023 - accuracy: 0.8891 - val_loss: 43.2785 - val_accuracy: 0.8512\n",
            "Epoch 4/10\n",
            "1500/1500 [==============================] - 6s 4ms/step - loss: 0.2664 - accuracy: 0.9024 - val_loss: 41.3848 - val_accuracy: 0.8498\n",
            "Epoch 5/10\n",
            "1500/1500 [==============================] - 5s 4ms/step - loss: 0.2425 - accuracy: 0.9113 - val_loss: 54.6790 - val_accuracy: 0.8282\n",
            "Epoch 6/10\n",
            "1500/1500 [==============================] - 6s 4ms/step - loss: 0.2192 - accuracy: 0.9194 - val_loss: 64.9007 - val_accuracy: 0.7940\n",
            "Epoch 7/10\n",
            "1500/1500 [==============================] - 6s 4ms/step - loss: 0.2025 - accuracy: 0.9247 - val_loss: 40.1708 - val_accuracy: 0.8619\n",
            "Epoch 8/10\n",
            "1500/1500 [==============================] - 5s 4ms/step - loss: 0.1870 - accuracy: 0.9288 - val_loss: 80.7484 - val_accuracy: 0.7899\n",
            "Epoch 9/10\n",
            "1500/1500 [==============================] - 5s 3ms/step - loss: 0.1729 - accuracy: 0.9357 - val_loss: 72.7715 - val_accuracy: 0.8081\n",
            "Epoch 10/10\n",
            "1500/1500 [==============================] - 5s 4ms/step - loss: 0.1590 - accuracy: 0.9410 - val_loss: 67.7025 - val_accuracy: 0.8209\n"
          ]
        },
        {
          "output_type": "execute_result",
          "data": {
            "text/plain": [
              "<keras.callbacks.History at 0x7f026446c1d0>"
            ]
          },
          "metadata": {},
          "execution_count": 11
        }
      ]
    },
    {
      "cell_type": "code",
      "source": [
        "model.evaluate(X_test,Y_test)"
      ],
      "metadata": {
        "colab": {
          "base_uri": "https://localhost:8080/"
        },
        "id": "zghkyoiDoPNO",
        "outputId": "7851a625-5dc6-4284-c622-97d7e8d7e842"
      },
      "execution_count": 12,
      "outputs": [
        {
          "output_type": "stream",
          "name": "stdout",
          "text": [
            "313/313 [==============================] - 1s 3ms/step - loss: 0.2787 - accuracy: 0.9049\n"
          ]
        },
        {
          "output_type": "execute_result",
          "data": {
            "text/plain": [
              "[0.27873384952545166, 0.9049000144004822]"
            ]
          },
          "metadata": {},
          "execution_count": 12
        }
      ]
    },
    {
      "cell_type": "code",
      "source": [
        "model.save('CNN_MLP_fashionMnist.h5')"
      ],
      "metadata": {
        "id": "xBZv8hatxkiS"
      },
      "execution_count": 13,
      "outputs": []
    },
    {
      "cell_type": "code",
      "source": [
        ""
      ],
      "metadata": {
        "id": "iYRQKlJJ7ppV"
      },
      "execution_count": null,
      "outputs": []
    }
  ]
}