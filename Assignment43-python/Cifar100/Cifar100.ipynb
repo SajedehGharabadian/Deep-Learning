{
  "cells": [
    {
      "cell_type": "code",
      "source": [
        "!pip install wandb"
      ],
      "metadata": {
        "id": "bGFUPdvm8FAd"
      },
      "execution_count": null,
      "outputs": []
    },
    {
      "cell_type": "code",
      "execution_count": 2,
      "metadata": {
        "id": "36RV7_Orv6aj"
      },
      "outputs": [],
      "source": [
        "import tensorflow as tf\n",
        "from tensorflow.keras import layers\n",
        "import numpy as np\n",
        "from sklearn.model_selection import train_test_split\n",
        "import wandb\n",
        "from wandb.keras import WandbCallback"
      ]
    },
    {
      "cell_type": "code",
      "source": [
        "wandb.login()"
      ],
      "metadata": {
        "colab": {
          "base_uri": "https://localhost:8080/",
          "height": 69
        },
        "id": "amBE7T638e8W",
        "outputId": "1d3ef718-74b8-42b7-aa1c-762a22fabe6c"
      },
      "execution_count": 3,
      "outputs": [
        {
          "output_type": "display_data",
          "data": {
            "text/plain": [
              "<IPython.core.display.Javascript object>"
            ],
            "application/javascript": [
              "\n",
              "        window._wandbApiKey = new Promise((resolve, reject) => {\n",
              "            function loadScript(url) {\n",
              "            return new Promise(function(resolve, reject) {\n",
              "                let newScript = document.createElement(\"script\");\n",
              "                newScript.onerror = reject;\n",
              "                newScript.onload = resolve;\n",
              "                document.body.appendChild(newScript);\n",
              "                newScript.src = url;\n",
              "            });\n",
              "            }\n",
              "            loadScript(\"https://cdn.jsdelivr.net/npm/postmate/build/postmate.min.js\").then(() => {\n",
              "            const iframe = document.createElement('iframe')\n",
              "            iframe.style.cssText = \"width:0;height:0;border:none\"\n",
              "            document.body.appendChild(iframe)\n",
              "            const handshake = new Postmate({\n",
              "                container: iframe,\n",
              "                url: 'https://wandb.ai/authorize'\n",
              "            });\n",
              "            const timeout = setTimeout(() => reject(\"Couldn't auto authenticate\"), 5000)\n",
              "            handshake.then(function(child) {\n",
              "                child.on('authorize', data => {\n",
              "                    clearTimeout(timeout)\n",
              "                    resolve(data)\n",
              "                });\n",
              "            });\n",
              "            })\n",
              "        });\n",
              "    "
            ]
          },
          "metadata": {}
        },
        {
          "output_type": "stream",
          "name": "stderr",
          "text": [
            "\u001b[34m\u001b[1mwandb\u001b[0m: Appending key for api.wandb.ai to your netrc file: /root/.netrc\n"
          ]
        },
        {
          "output_type": "execute_result",
          "data": {
            "text/plain": [
              "True"
            ]
          },
          "metadata": {},
          "execution_count": 3
        }
      ]
    },
    {
      "cell_type": "code",
      "source": [
        "wandb.init(project=\"Cifar100\", entity=\"gharabadiyan\")"
      ],
      "metadata": {
        "colab": {
          "base_uri": "https://localhost:8080/",
          "height": 108
        },
        "id": "diCqiD328hS6",
        "outputId": "6476734d-2efd-4c84-a88b-25a306f1bb6f"
      },
      "execution_count": 4,
      "outputs": [
        {
          "output_type": "stream",
          "name": "stderr",
          "text": [
            "\u001b[34m\u001b[1mwandb\u001b[0m: Currently logged in as: \u001b[33mgharabadiyan\u001b[0m. Use \u001b[1m`wandb login --relogin`\u001b[0m to force relogin\n"
          ]
        },
        {
          "output_type": "display_data",
          "data": {
            "text/plain": [
              "<IPython.core.display.HTML object>"
            ],
            "text/html": [
              "Tracking run with wandb version 0.12.17"
            ]
          },
          "metadata": {}
        },
        {
          "output_type": "display_data",
          "data": {
            "text/plain": [
              "<IPython.core.display.HTML object>"
            ],
            "text/html": [
              "Run data is saved locally in <code>/content/wandb/run-20220608_061328-2s8tl7eo</code>"
            ]
          },
          "metadata": {}
        },
        {
          "output_type": "display_data",
          "data": {
            "text/plain": [
              "<IPython.core.display.HTML object>"
            ],
            "text/html": [
              "Syncing run <strong><a href=\"https://wandb.ai/gharabadiyan/Cifar100/runs/2s8tl7eo\" target=\"_blank\">splendid-wind-1</a></strong> to <a href=\"https://wandb.ai/gharabadiyan/Cifar100\" target=\"_blank\">Weights & Biases</a> (<a href=\"https://wandb.me/run\" target=\"_blank\">docs</a>)<br/>"
            ]
          },
          "metadata": {}
        },
        {
          "output_type": "execute_result",
          "data": {
            "text/html": [
              "<button onClick=\"this.nextSibling.style.display='block';this.style.display='none';\">Display W&B run</button><iframe src=\"https://wandb.ai/gharabadiyan/Cifar100/runs/2s8tl7eo?jupyter=true\" style=\"border:none;width:100%;height:420px;display:none;\"></iframe>"
            ],
            "text/plain": [
              "<wandb.sdk.wandb_run.Run at 0x7efceae44c50>"
            ]
          },
          "metadata": {},
          "execution_count": 4
        }
      ]
    },
    {
      "cell_type": "code",
      "execution_count": 5,
      "metadata": {
        "colab": {
          "base_uri": "https://localhost:8080/"
        },
        "id": "sSOOsuHMwGEC",
        "outputId": "0f4114b9-bf86-443f-ab96-e57e379bdea8"
      },
      "outputs": [
        {
          "output_type": "stream",
          "name": "stdout",
          "text": [
            "Downloading data from https://www.cs.toronto.edu/~kriz/cifar-100-python.tar.gz\n",
            "169009152/169001437 [==============================] - 2s 0us/step\n",
            "169017344/169001437 [==============================] - 2s 0us/step\n"
          ]
        }
      ],
      "source": [
        "cifar100 = tf.keras.datasets.cifar100\n",
        "\n",
        "(X_train, Y_train), (X_test, Y_test) = cifar100.load_data()\n",
        "\n",
        "X_test = X_test / 255.0\n",
        "\n",
        "X_train,X_val, Y_train, Y_val = train_test_split(X_train, Y_train, test_size=0.2, random_state=24)\n",
        "\n",
        "X_train = X_train / 255.0"
      ]
    },
    {
      "cell_type": "markdown",
      "metadata": {
        "id": "gXX6pIW74nvM"
      },
      "source": [
        "## MLP"
      ]
    },
    {
      "cell_type": "code",
      "execution_count": 6,
      "metadata": {
        "colab": {
          "base_uri": "https://localhost:8080/"
        },
        "id": "D4sc9_Xews1i",
        "outputId": "6b121b1d-6e5f-404f-a3cf-bb7ff04bda4d"
      },
      "outputs": [
        {
          "output_type": "stream",
          "name": "stderr",
          "text": [
            "\u001b[34m\u001b[1mwandb\u001b[0m: \u001b[33mWARNING\u001b[0m The save_model argument by default saves the model in the HDF5 format that cannot save custom objects like subclassed models and custom layers. This behavior will be deprecated in a future release in favor of the SavedModel format. Meanwhile, the HDF5 model is saved as W&B files and the SavedModel as W&B Artifacts.\n"
          ]
        },
        {
          "output_type": "stream",
          "name": "stdout",
          "text": [
            "Epoch 1/25\n"
          ]
        },
        {
          "output_type": "stream",
          "name": "stderr",
          "text": [
            "/usr/local/lib/python3.7/dist-packages/tensorflow/python/util/dispatch.py:1082: UserWarning: \"`sparse_categorical_crossentropy` received `from_logits=True`, but the `output` argument was produced by a sigmoid or softmax activation and thus does not represent logits. Was this intended?\"\n",
            "  return dispatch_target(*args, **kwargs)\n"
          ]
        },
        {
          "output_type": "stream",
          "name": "stdout",
          "text": [
            "1250/1250 [==============================] - 7s 3ms/step - loss: 4.2370 - accuracy: 0.0488 - val_loss: 293.4640 - val_accuracy: 0.0711 - _timestamp: 1654668878.0000 - _runtime: 70.0000\n",
            "Epoch 2/25\n",
            "1250/1250 [==============================] - 4s 3ms/step - loss: 3.8731 - accuracy: 0.0966 - val_loss: 387.4752 - val_accuracy: 0.1024 - _timestamp: 1654668882.0000 - _runtime: 74.0000\n",
            "Epoch 3/25\n",
            "1250/1250 [==============================] - 4s 3ms/step - loss: 3.6676 - accuracy: 0.1361 - val_loss: 448.3227 - val_accuracy: 0.1150 - _timestamp: 1654668886.0000 - _runtime: 78.0000\n",
            "Epoch 4/25\n",
            "1250/1250 [==============================] - 4s 3ms/step - loss: 3.5456 - accuracy: 0.1577 - val_loss: 455.9567 - val_accuracy: 0.1462 - _timestamp: 1654668890.0000 - _runtime: 82.0000\n",
            "Epoch 5/25\n",
            "1250/1250 [==============================] - 4s 3ms/step - loss: 3.4536 - accuracy: 0.1752 - val_loss: 479.6448 - val_accuracy: 0.1368 - _timestamp: 1654668894.0000 - _runtime: 86.0000\n",
            "Epoch 6/25\n",
            "1250/1250 [==============================] - 4s 3ms/step - loss: 3.3807 - accuracy: 0.1882 - val_loss: 540.0057 - val_accuracy: 0.1336 - _timestamp: 1654668898.0000 - _runtime: 90.0000\n",
            "Epoch 7/25\n",
            "1250/1250 [==============================] - 4s 3ms/step - loss: 3.3256 - accuracy: 0.1966 - val_loss: 566.1312 - val_accuracy: 0.1436 - _timestamp: 1654668902.0000 - _runtime: 94.0000\n",
            "Epoch 8/25\n",
            "1250/1250 [==============================] - 4s 3ms/step - loss: 3.2718 - accuracy: 0.2033 - val_loss: 604.3259 - val_accuracy: 0.1278 - _timestamp: 1654668905.0000 - _runtime: 97.0000\n",
            "Epoch 9/25\n",
            "1250/1250 [==============================] - 4s 3ms/step - loss: 3.2296 - accuracy: 0.2123 - val_loss: 651.4679 - val_accuracy: 0.1335 - _timestamp: 1654668909.0000 - _runtime: 101.0000\n",
            "Epoch 10/25\n",
            "1250/1250 [==============================] - 4s 3ms/step - loss: 3.1928 - accuracy: 0.2193 - val_loss: 649.0611 - val_accuracy: 0.1310 - _timestamp: 1654668913.0000 - _runtime: 105.0000\n",
            "Epoch 11/25\n",
            "1250/1250 [==============================] - 4s 3ms/step - loss: 3.1545 - accuracy: 0.2245 - val_loss: 728.8490 - val_accuracy: 0.1269 - _timestamp: 1654668917.0000 - _runtime: 109.0000\n",
            "Epoch 12/25\n",
            "1250/1250 [==============================] - 4s 3ms/step - loss: 3.1233 - accuracy: 0.2291 - val_loss: 731.2853 - val_accuracy: 0.1214 - _timestamp: 1654668921.0000 - _runtime: 113.0000\n",
            "Epoch 13/25\n",
            "1250/1250 [==============================] - 4s 3ms/step - loss: 3.0873 - accuracy: 0.2382 - val_loss: 710.9150 - val_accuracy: 0.1350 - _timestamp: 1654668924.0000 - _runtime: 116.0000\n",
            "Epoch 14/25\n",
            "1250/1250 [==============================] - 4s 3ms/step - loss: 3.0589 - accuracy: 0.2439 - val_loss: 687.9928 - val_accuracy: 0.1367 - _timestamp: 1654668928.0000 - _runtime: 120.0000\n",
            "Epoch 15/25\n",
            "1250/1250 [==============================] - 4s 3ms/step - loss: 3.0307 - accuracy: 0.2459 - val_loss: 700.4396 - val_accuracy: 0.1400 - _timestamp: 1654668932.0000 - _runtime: 124.0000\n",
            "Epoch 16/25\n",
            "1250/1250 [==============================] - 4s 3ms/step - loss: 3.0063 - accuracy: 0.2518 - val_loss: 744.0106 - val_accuracy: 0.1343 - _timestamp: 1654668936.0000 - _runtime: 128.0000\n",
            "Epoch 17/25\n",
            "1250/1250 [==============================] - 4s 3ms/step - loss: 2.9806 - accuracy: 0.2558 - val_loss: 741.5875 - val_accuracy: 0.1277 - _timestamp: 1654668939.0000 - _runtime: 131.0000\n",
            "Epoch 18/25\n",
            "1250/1250 [==============================] - 4s 3ms/step - loss: 2.9552 - accuracy: 0.2598 - val_loss: 783.9221 - val_accuracy: 0.1256 - _timestamp: 1654668943.0000 - _runtime: 135.0000\n",
            "Epoch 19/25\n",
            "1250/1250 [==============================] - 4s 3ms/step - loss: 2.9231 - accuracy: 0.2663 - val_loss: 796.9079 - val_accuracy: 0.1241 - _timestamp: 1654668947.0000 - _runtime: 139.0000\n",
            "Epoch 20/25\n",
            "1250/1250 [==============================] - 4s 3ms/step - loss: 2.9110 - accuracy: 0.2698 - val_loss: 830.9888 - val_accuracy: 0.1284 - _timestamp: 1654668951.0000 - _runtime: 143.0000\n",
            "Epoch 21/25\n",
            "1250/1250 [==============================] - 4s 3ms/step - loss: 2.8877 - accuracy: 0.2755 - val_loss: 794.2181 - val_accuracy: 0.1259 - _timestamp: 1654668954.0000 - _runtime: 146.0000\n",
            "Epoch 22/25\n",
            "1250/1250 [==============================] - 4s 3ms/step - loss: 2.8719 - accuracy: 0.2761 - val_loss: 836.4949 - val_accuracy: 0.1259 - _timestamp: 1654668958.0000 - _runtime: 150.0000\n",
            "Epoch 23/25\n",
            "1250/1250 [==============================] - 4s 3ms/step - loss: 2.8450 - accuracy: 0.2804 - val_loss: 901.0494 - val_accuracy: 0.1279 - _timestamp: 1654668962.0000 - _runtime: 154.0000\n",
            "Epoch 24/25\n",
            "1250/1250 [==============================] - 4s 3ms/step - loss: 2.8244 - accuracy: 0.2860 - val_loss: 828.9026 - val_accuracy: 0.1245 - _timestamp: 1654668966.0000 - _runtime: 158.0000\n",
            "Epoch 25/25\n",
            "1250/1250 [==============================] - 4s 3ms/step - loss: 2.8155 - accuracy: 0.2884 - val_loss: 831.5856 - val_accuracy: 0.1268 - _timestamp: 1654668969.0000 - _runtime: 161.0000\n"
          ]
        },
        {
          "output_type": "execute_result",
          "data": {
            "text/plain": [
              "<keras.callbacks.History at 0x7efce7488bd0>"
            ]
          },
          "metadata": {},
          "execution_count": 6
        }
      ],
      "source": [
        "model = tf.keras.Sequential([\n",
        "    tf.keras.layers.Flatten(input_shape=(32, 32,3)),\n",
        "    tf.keras.layers.Dense(512, activation='relu'),\n",
        "    tf.keras.layers.Dense(256, activation='relu'),\n",
        "    tf.keras.layers.Dense(128, activation='relu'),\n",
        "    tf.keras.layers.Dense(100,activation='softmax')\n",
        "])\n",
        "\n",
        "model.compile(optimizer='adam',\n",
        "              loss=tf.keras.losses.SparseCategoricalCrossentropy(from_logits=True),\n",
        "              metrics=['accuracy'])\n",
        "\n",
        "model.fit(X_train, Y_train, epochs=25,validation_data=(X_val,Y_val),callbacks=[WandbCallback()])"
      ]
    },
    {
      "cell_type": "code",
      "execution_count": 7,
      "metadata": {
        "colab": {
          "base_uri": "https://localhost:8080/"
        },
        "id": "zVjdR-uu1Lgu",
        "outputId": "14486e94-9ddc-453f-a13d-09be511313fd"
      },
      "outputs": [
        {
          "output_type": "stream",
          "name": "stdout",
          "text": [
            " 39/313 [==>...........................] - ETA: 0s - loss: 3.6530 - accuracy: 0.1915"
          ]
        },
        {
          "output_type": "stream",
          "name": "stderr",
          "text": [
            "/usr/local/lib/python3.7/dist-packages/tensorflow/python/util/dispatch.py:1082: UserWarning: \"`sparse_categorical_crossentropy` received `from_logits=True`, but the `output` argument was produced by a sigmoid or softmax activation and thus does not represent logits. Was this intended?\"\n",
            "  return dispatch_target(*args, **kwargs)\n"
          ]
        },
        {
          "output_type": "stream",
          "name": "stdout",
          "text": [
            "313/313 [==============================] - 1s 3ms/step - loss: 3.6190 - accuracy: 0.1956\n"
          ]
        },
        {
          "output_type": "execute_result",
          "data": {
            "text/plain": [
              "[3.6190261840820312, 0.1956000030040741]"
            ]
          },
          "metadata": {},
          "execution_count": 7
        }
      ],
      "source": [
        "model.evaluate(X_test, Y_test)"
      ]
    },
    {
      "cell_type": "code",
      "execution_count": 8,
      "metadata": {
        "id": "wfFWuBO24ro5"
      },
      "outputs": [],
      "source": [
        "model.save('MLP_Cifar100.h5')"
      ]
    },
    {
      "cell_type": "markdown",
      "metadata": {
        "id": "LT5a4xOt6QQU"
      },
      "source": [
        "## MLP + CNN"
      ]
    },
    {
      "cell_type": "code",
      "execution_count": 9,
      "metadata": {
        "id": "B6vU--_i6PRN"
      },
      "outputs": [],
      "source": [
        "model = tf.keras.models.Sequential([\n",
        "                                    \n",
        "        #استخراج ویژگی                           \n",
        "        layers.Conv2D(32,(3,3),activation='relu',input_shape=(32, 32,3)),\n",
        "        layers.Conv2D(32,(3,3),activation='relu'),                            \n",
        "        layers.MaxPool2D((2, 2)),\n",
        "        layers.Conv2D(64,(3,3),activation='relu'),\n",
        "        layers.Conv2D(64,(3,3),activation='relu'),\n",
        "        layers.MaxPool2D((2, 2)),\n",
        "\n",
        "        layers.Flatten(),\n",
        "\n",
        "        #همون شبکه قدیمی\n",
        "        tf.keras.layers.Dense(48, activation='relu'),\n",
        "        tf.keras.layers.Dense(100)\n",
        "])\n",
        "model.compile(optimizer='adam',\n",
        "              loss=tf.keras.losses.SparseCategoricalCrossentropy(from_logits=True),\n",
        "              metrics=['accuracy'])"
      ]
    },
    {
      "cell_type": "code",
      "execution_count": 11,
      "metadata": {
        "colab": {
          "base_uri": "https://localhost:8080/"
        },
        "id": "2m9nA8LB7HHu",
        "outputId": "871fe8a1-d975-49ba-fdd2-c86a701d601b"
      },
      "outputs": [
        {
          "output_type": "stream",
          "name": "stdout",
          "text": [
            "Epoch 1/15\n",
            "1250/1250 [==============================] - 16s 5ms/step - loss: 4.1251 - accuracy: 0.0662 - val_loss: 500.7497 - val_accuracy: 0.0834 - _timestamp: 1654669025.0000 - _runtime: 217.0000\n",
            "Epoch 2/15\n",
            "1250/1250 [==============================] - 6s 5ms/step - loss: 3.4743 - accuracy: 0.1702 - val_loss: 493.6456 - val_accuracy: 0.1157 - _timestamp: 1654669031.0000 - _runtime: 223.0000\n",
            "Epoch 3/15\n",
            "1250/1250 [==============================] - 6s 5ms/step - loss: 3.1335 - accuracy: 0.2341 - val_loss: 525.6008 - val_accuracy: 0.1208 - _timestamp: 1654669037.0000 - _runtime: 229.0000\n",
            "Epoch 4/15\n",
            "1250/1250 [==============================] - 5s 4ms/step - loss: 2.9054 - accuracy: 0.2769 - val_loss: 450.6278 - val_accuracy: 0.1302 - _timestamp: 1654669042.0000 - _runtime: 234.0000\n",
            "Epoch 5/15\n",
            "1250/1250 [==============================] - 5s 4ms/step - loss: 2.7164 - accuracy: 0.3126 - val_loss: 388.2565 - val_accuracy: 0.1657 - _timestamp: 1654669047.0000 - _runtime: 239.0000\n",
            "Epoch 6/15\n",
            "1250/1250 [==============================] - 5s 4ms/step - loss: 2.5799 - accuracy: 0.3394 - val_loss: 451.2729 - val_accuracy: 0.1309 - _timestamp: 1654669053.0000 - _runtime: 245.0000\n",
            "Epoch 7/15\n",
            "1250/1250 [==============================] - 6s 5ms/step - loss: 2.4644 - accuracy: 0.3625 - val_loss: 515.9489 - val_accuracy: 0.1249 - _timestamp: 1654669059.0000 - _runtime: 251.0000\n",
            "Epoch 8/15\n",
            "1250/1250 [==============================] - 5s 4ms/step - loss: 2.3713 - accuracy: 0.3824 - val_loss: 510.5935 - val_accuracy: 0.1406 - _timestamp: 1654669064.0000 - _runtime: 256.0000\n",
            "Epoch 9/15\n",
            "1250/1250 [==============================] - 5s 4ms/step - loss: 2.2860 - accuracy: 0.3980 - val_loss: 518.4728 - val_accuracy: 0.1448 - _timestamp: 1654669069.0000 - _runtime: 261.0000\n",
            "Epoch 10/15\n",
            "1250/1250 [==============================] - 5s 4ms/step - loss: 2.2107 - accuracy: 0.4150 - val_loss: 520.6893 - val_accuracy: 0.1346 - _timestamp: 1654669075.0000 - _runtime: 267.0000\n",
            "Epoch 11/15\n",
            "1250/1250 [==============================] - 6s 5ms/step - loss: 2.1517 - accuracy: 0.4276 - val_loss: 576.6198 - val_accuracy: 0.1267 - _timestamp: 1654669081.0000 - _runtime: 273.0000\n",
            "Epoch 12/15\n",
            "1250/1250 [==============================] - 6s 5ms/step - loss: 2.0832 - accuracy: 0.4393 - val_loss: 620.5721 - val_accuracy: 0.1251 - _timestamp: 1654669087.0000 - _runtime: 279.0000\n",
            "Epoch 13/15\n",
            "1250/1250 [==============================] - 5s 4ms/step - loss: 2.0267 - accuracy: 0.4556 - val_loss: 635.4085 - val_accuracy: 0.1237 - _timestamp: 1654669092.0000 - _runtime: 284.0000\n",
            "Epoch 14/15\n",
            "1250/1250 [==============================] - 6s 5ms/step - loss: 1.9656 - accuracy: 0.4669 - val_loss: 598.1796 - val_accuracy: 0.1298 - _timestamp: 1654669098.0000 - _runtime: 290.0000\n",
            "Epoch 15/15\n",
            "1250/1250 [==============================] - 5s 4ms/step - loss: 1.9103 - accuracy: 0.4807 - val_loss: 713.9510 - val_accuracy: 0.1375 - _timestamp: 1654669103.0000 - _runtime: 295.0000\n"
          ]
        },
        {
          "output_type": "execute_result",
          "data": {
            "text/plain": [
              "<keras.callbacks.History at 0x7efcd014ca90>"
            ]
          },
          "metadata": {},
          "execution_count": 11
        }
      ],
      "source": [
        "model.fit(X_train,Y_train,epochs=15,validation_data=(X_val,Y_val),callbacks=[WandbCallback()])"
      ]
    },
    {
      "cell_type": "code",
      "execution_count": 12,
      "metadata": {
        "colab": {
          "base_uri": "https://localhost:8080/"
        },
        "id": "4VKbexN47K18",
        "outputId": "63305a0d-9a38-4a49-af71-ec10cfbf9066"
      },
      "outputs": [
        {
          "output_type": "stream",
          "name": "stdout",
          "text": [
            "313/313 [==============================] - 1s 4ms/step - loss: 2.7669 - accuracy: 0.3365\n"
          ]
        },
        {
          "output_type": "execute_result",
          "data": {
            "text/plain": [
              "[2.7669010162353516, 0.33649998903274536]"
            ]
          },
          "metadata": {},
          "execution_count": 12
        }
      ],
      "source": [
        "model.evaluate(X_test, Y_test)"
      ]
    },
    {
      "cell_type": "code",
      "execution_count": 13,
      "metadata": {
        "id": "rdjeM70t9ZEc"
      },
      "outputs": [],
      "source": [
        "model.save('MLP_CNN_Cifar100.h5')"
      ]
    },
    {
      "cell_type": "code",
      "execution_count": null,
      "metadata": {
        "id": "gDxETkk8DTn9"
      },
      "outputs": [],
      "source": [
        ""
      ]
    }
  ],
  "metadata": {
    "accelerator": "GPU",
    "colab": {
      "name": "Cifar100.ipynb",
      "provenance": []
    },
    "kernelspec": {
      "display_name": "Python 3",
      "name": "python3"
    },
    "language_info": {
      "name": "python"
    }
  },
  "nbformat": 4,
  "nbformat_minor": 0
}